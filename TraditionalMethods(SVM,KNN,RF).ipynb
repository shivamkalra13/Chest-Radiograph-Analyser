{
 "cells": [
  {
   "cell_type": "markdown",
   "metadata": {},
   "source": [
    "# Importing Libraries"
   ]
  },
  {
   "cell_type": "code",
   "execution_count": 1,
   "metadata": {},
   "outputs": [],
   "source": [
    "import os\n",
    "\n",
    "import matplotlib as mpl\n",
    "import matplotlib.pyplot as plt\n",
    "\n",
    "import cv2\n",
    "import pandas as pd\n",
    "import numpy as np\n",
    "import mahotas\n",
    "\n",
    "from PIL import Image,ImageOps\n",
    "\n",
    "from skimage.feature import hog\n",
    "from skimage.color import rgb2grey\n",
    "\n",
    "from sklearn.model_selection import train_test_split\n",
    "from sklearn.metrics import accuracy_score\n",
    "from sklearn.preprocessing import StandardScaler\n",
    "from sklearn.decomposition import PCA\n",
    "from sklearn.svm import SVC\n",
    "\n",
    "from sklearn.metrics import roc_curve, auc"
   ]
  },
  {
   "cell_type": "markdown",
   "metadata": {},
   "source": [
    "# Image and Data Preprocessing and Feature Extraction"
   ]
  },
  {
   "cell_type": "markdown",
   "metadata": {},
   "source": [
    "## Feature Extraction Functions"
   ]
  },
  {
   "cell_type": "code",
   "execution_count": 2,
   "metadata": {},
   "outputs": [],
   "source": [
    "def fd_hu_moments(image):\n",
    "    feature = cv2.HuMoments(cv2.moments(image)).flatten()\n",
    "    return feature\n",
    "\n",
    "def fd_haralick(image): \n",
    "    # compute the haralick texture feature vector\n",
    "    haralick = mahotas.features.haralick(image).mean(axis=0)\n",
    "    return haralick\n",
    "\n",
    "def create_features(img):\n",
    "    # flatten three channel color image\n",
    "    #color_features = img.flatten()\n",
    "    # convert image to greyscale\n",
    "    grey_image = rgb2grey(img)\n",
    "    # get HOG features from greyscale image\n",
    "    hog_features,hog_imgs = hog(grey_image, orientations=9, pixels_per_cell=(4, 4),cells_per_block=(2, 2),visualize=True)  #got total 8100 features,after checking I wrote this.\n",
    "    # combine all features into a single array\n",
    "    hu_features = fd_hu_moments(img)  #Total 7 features\n",
    "    haralick_features = fd_haralick(img)  #Total 13 features\n",
    "    #print('no. of features => hog=',len(hog_features),', hu=',len(hu_features),', haralick=',len(haralick_features))\n",
    "    flat_features = np.hstack([hog_features,hu_features,haralick_features])\n",
    "    return flat_features"
   ]
  },
  {
   "cell_type": "code",
   "execution_count": 3,
   "metadata": {},
   "outputs": [],
   "source": [
    "def getImage(path):\n",
    "    img = Image.open(path)\n",
    "    img = ImageOps.fit(img,(64,64),Image.ANTIALIAS)\n",
    "    img = np.array(img)\n",
    "    return img\n",
    "\n",
    "def getDF(path): #get DataFrame\n",
    "    features_list=[]\n",
    "    for file in os.listdir(path):\n",
    "        path1 = os.path.join(path+file)\n",
    "        img = getImage(path1)\n",
    "        fr = create_features(img)\n",
    "        features_list.append(fr)\n",
    "    feature_matrix = np.array(features_list)\n",
    "    return feature_matrix"
   ]
  },
  {
   "cell_type": "markdown",
   "metadata": {},
   "source": [
    "### Preparing Training Set"
   ]
  },
  {
   "cell_type": "code",
   "execution_count": 4,
   "metadata": {},
   "outputs": [],
   "source": [
    "train1 = getDF('.\\\\train\\\\NORMAL\\\\')"
   ]
  },
  {
   "cell_type": "code",
   "execution_count": 10,
   "metadata": {},
   "outputs": [
    {
     "data": {
      "text/plain": [
       "array([[ 0.13829613,  0.        ,  0.        , ...,  5.17048539,\n",
       "        -0.38483317,  0.99837777],\n",
       "       [ 0.2520088 ,  0.30773162,  0.30773162, ...,  5.35489435,\n",
       "        -0.36338669,  0.99783129],\n",
       "       [ 0.3244928 ,  0.03073737,  0.        , ...,  5.09888993,\n",
       "        -0.35587406,  0.99720542],\n",
       "       ...,\n",
       "       [ 0.39171518,  0.19374719,  0.        , ...,  4.69333821,\n",
       "        -0.34790142,  0.99617359],\n",
       "       [ 0.12677086,  0.        ,  0.13111985, ...,  4.82680968,\n",
       "        -0.35097743,  0.99651501],\n",
       "       [ 0.33712332,  0.        ,  0.        , ...,  4.87480457,\n",
       "        -0.38654834,  0.99814414]])"
      ]
     },
     "execution_count": 10,
     "metadata": {},
     "output_type": "execute_result"
    }
   ],
   "source": [
    "train1"
   ]
  },
  {
   "cell_type": "code",
   "execution_count": 8,
   "metadata": {},
   "outputs": [
    {
     "data": {
      "text/plain": [
       "(1341, 8120)"
      ]
     },
     "execution_count": 8,
     "metadata": {},
     "output_type": "execute_result"
    }
   ],
   "source": [
    "train1.shape"
   ]
  },
  {
   "cell_type": "code",
   "execution_count": 11,
   "metadata": {},
   "outputs": [],
   "source": [
    "pca = PCA(n_components=100)\n",
    "train1 = pca.fit_transform(train1)"
   ]
  },
  {
   "cell_type": "code",
   "execution_count": 12,
   "metadata": {},
   "outputs": [
    {
     "data": {
      "text/plain": [
       "(1341, 100)"
      ]
     },
     "execution_count": 12,
     "metadata": {},
     "output_type": "execute_result"
    }
   ],
   "source": [
    "train1.shape"
   ]
  },
  {
   "cell_type": "code",
   "execution_count": 13,
   "metadata": {},
   "outputs": [],
   "source": [
    "ss = StandardScaler()\n",
    "train1 = ss.fit_transform(train1)"
   ]
  },
  {
   "cell_type": "code",
   "execution_count": 14,
   "metadata": {},
   "outputs": [],
   "source": [
    "label1 = np.array(['normal']*1341).reshape(-1,1) #1341 is no. of rows in train1\n",
    "train1 = np.concatenate((train1,label1),axis=1)"
   ]
  },
  {
   "cell_type": "code",
   "execution_count": 15,
   "metadata": {
    "scrolled": true
   },
   "outputs": [
    {
     "data": {
      "text/plain": [
       "array([['0.6864043909191616', '-1.1578634753077777',\n",
       "        '-0.14978184392678884', ..., '-0.266531406013027',\n",
       "        '-0.09254903651618077', 'normal'],\n",
       "       ['0.01234082264659507', '0.8260274065765886',\n",
       "        '1.4452979015586724', ..., '0.5513439925735877',\n",
       "        '-0.4151086687538014', 'normal'],\n",
       "       ['-0.38717981596379225', '-0.48466938275323734',\n",
       "        '-0.5558592264756236', ..., '-0.543353147694312',\n",
       "        '-1.3317208106625964', 'normal'],\n",
       "       ...,\n",
       "       ['-1.0734563067236438', '-1.7159640591639018',\n",
       "        '1.7986716440447694', ..., '2.1460549701265577',\n",
       "        '-0.556784473973163', 'normal'],\n",
       "       ['-1.01467170397635', '-1.0817555352470756',\n",
       "        '-0.5945200891874015', ..., '0.2768146149408373',\n",
       "        '0.7258556862560157', 'normal'],\n",
       "       ['0.20280017928417038', '-1.9517575114412793',\n",
       "        '2.605164445736288', ..., '1.0906475586952997',\n",
       "        '-0.7781712865596657', 'normal']], dtype='<U32')"
      ]
     },
     "execution_count": 15,
     "metadata": {},
     "output_type": "execute_result"
    }
   ],
   "source": [
    "train1"
   ]
  },
  {
   "cell_type": "code",
   "execution_count": 16,
   "metadata": {},
   "outputs": [],
   "source": [
    "# Doing same operations to get train2(Pneumonia part)\n",
    "train2 = getDF('.\\\\train\\\\PNEUMONIA\\\\')\n",
    "pca = PCA(n_components=100)\n",
    "train2 = pca.fit_transform(train2)\n",
    "ss = StandardScaler()\n",
    "train2 = ss.fit_transform(train2)"
   ]
  },
  {
   "cell_type": "code",
   "execution_count": 17,
   "metadata": {},
   "outputs": [
    {
     "data": {
      "text/plain": [
       "(3592, 100)"
      ]
     },
     "execution_count": 17,
     "metadata": {},
     "output_type": "execute_result"
    }
   ],
   "source": [
    "train2.shape"
   ]
  },
  {
   "cell_type": "code",
   "execution_count": 18,
   "metadata": {},
   "outputs": [],
   "source": [
    "label2 = np.array(['pneumonia']*3592).reshape(-1,1) #3592 is no. of rows in train2\n",
    "train2 = np.concatenate((train2,label2),axis=1)"
   ]
  },
  {
   "cell_type": "code",
   "execution_count": 19,
   "metadata": {},
   "outputs": [
    {
     "data": {
      "text/plain": [
       "(3592, 101)"
      ]
     },
     "execution_count": 19,
     "metadata": {},
     "output_type": "execute_result"
    }
   ],
   "source": [
    "train2.shape"
   ]
  },
  {
   "cell_type": "code",
   "execution_count": 20,
   "metadata": {},
   "outputs": [],
   "source": [
    "train_set = np.concatenate((train1,train2),axis=0)"
   ]
  },
  {
   "cell_type": "code",
   "execution_count": 21,
   "metadata": {},
   "outputs": [
    {
     "data": {
      "text/plain": [
       "array([['0.6864043909191616', '-1.1578634753077777',\n",
       "        '-0.14978184392678884', ..., '-0.266531406013027',\n",
       "        '-0.09254903651618077', 'normal'],\n",
       "       ['0.01234082264659507', '0.8260274065765886',\n",
       "        '1.4452979015586724', ..., '0.5513439925735877',\n",
       "        '-0.4151086687538014', 'normal'],\n",
       "       ['-0.38717981596379225', '-0.48466938275323734',\n",
       "        '-0.5558592264756236', ..., '-0.543353147694312',\n",
       "        '-1.3317208106625964', 'normal'],\n",
       "       ...,\n",
       "       ['0.26367279199178006', '-1.0559742194290351',\n",
       "        '-0.18049301706116777', ..., '-1.380185542194111',\n",
       "        '-0.8371160865995119', 'pneumonia'],\n",
       "       ['-0.9978129912932912', '0.1965075016450941',\n",
       "        '-0.8198437032138226', ..., '-0.03522930142488456',\n",
       "        '0.00882506744500263', 'pneumonia'],\n",
       "       ['-0.5403224282990343', '-0.6383764105905336',\n",
       "        '0.4344641212266098', ..., '-0.3596217694403383',\n",
       "        '-0.12446372531956615', 'pneumonia']], dtype='<U32')"
      ]
     },
     "execution_count": 21,
     "metadata": {},
     "output_type": "execute_result"
    }
   ],
   "source": [
    "train_set"
   ]
  },
  {
   "cell_type": "code",
   "execution_count": 22,
   "metadata": {
    "scrolled": true
   },
   "outputs": [
    {
     "data": {
      "text/plain": [
       "(4933, 101)"
      ]
     },
     "execution_count": 22,
     "metadata": {},
     "output_type": "execute_result"
    }
   ],
   "source": [
    "train_set.shape"
   ]
  },
  {
   "cell_type": "code",
   "execution_count": 23,
   "metadata": {},
   "outputs": [],
   "source": [
    "np.random.shuffle(train_set)"
   ]
  },
  {
   "cell_type": "code",
   "execution_count": 22,
   "metadata": {},
   "outputs": [
    {
     "data": {
      "text/plain": [
       "array([['1.2708176814340306', '-1.5906594389338347',\n",
       "        '1.4577351540280412', ..., '-0.2302765842761266',\n",
       "        '-0.5913948086706202', 'pneumonia'],\n",
       "       ['-0.15949459150556328', '0.09522725426458803',\n",
       "        '-0.7347119625501648', ..., '-0.7486410055835269',\n",
       "        '0.4263836016780033', 'pneumonia'],\n",
       "       ['0.6923839973054228', '0.49389224325601266', '2.166188833952168',\n",
       "        ..., '-2.5904956700061827', '-0.44881524487635954', 'pneumonia'],\n",
       "       ...,\n",
       "       ['1.9096313175423167', '0.09336692529687783',\n",
       "        '0.7537674156873273', ..., '-0.6585973080721648',\n",
       "        '0.5887410140472499', 'pneumonia'],\n",
       "       ['-1.9961488242217835', '0.20529015420204283',\n",
       "        '-0.8913185825217947', ..., '-0.3301031560862101',\n",
       "        '1.8805190482650114', 'pneumonia'],\n",
       "       ['0.13956210027994295', '-0.9085046002449325',\n",
       "        '-0.07117935667350593', ..., '1.6133258891914415',\n",
       "        '1.7342866553798013', 'pneumonia']], dtype='<U32')"
      ]
     },
     "execution_count": 22,
     "metadata": {},
     "output_type": "execute_result"
    }
   ],
   "source": [
    "train_set"
   ]
  },
  {
   "cell_type": "markdown",
   "metadata": {},
   "source": [
    "## Preparing test set"
   ]
  },
  {
   "cell_type": "code",
   "execution_count": 24,
   "metadata": {},
   "outputs": [],
   "source": [
    "test1 = getDF('.\\\\test\\\\NORMAL\\\\')\n",
    "pca = PCA(n_components=100)\n",
    "test1 = pca.fit_transform(test1)\n",
    "ss = StandardScaler()\n",
    "test1 = ss.fit_transform(test1)"
   ]
  },
  {
   "cell_type": "code",
   "execution_count": 25,
   "metadata": {},
   "outputs": [
    {
     "data": {
      "text/plain": [
       "(234, 100)"
      ]
     },
     "execution_count": 25,
     "metadata": {},
     "output_type": "execute_result"
    }
   ],
   "source": [
    "test1.shape"
   ]
  },
  {
   "cell_type": "code",
   "execution_count": 26,
   "metadata": {},
   "outputs": [],
   "source": [
    "label1 = np.array(['normal']*234).reshape(-1,1) #234 is no. of rows in test1\n",
    "test1 = np.concatenate((test1,label1),axis=1)"
   ]
  },
  {
   "cell_type": "code",
   "execution_count": 27,
   "metadata": {},
   "outputs": [
    {
     "data": {
      "text/plain": [
       "array([['0.2435974505168652', '-0.20022577281389617',\n",
       "        '-0.0714450980205829', ..., '0.2715431284374765',\n",
       "        '1.4142648225207914', 'normal'],\n",
       "       ['-0.3189901459820519', '0.17915871217475202',\n",
       "        '-1.3390605474782116', ..., '-0.11387714473892618',\n",
       "        '-0.10840600806874298', 'normal'],\n",
       "       ['0.548359998105811', '-0.7729182156077122',\n",
       "        '-0.1565039326723877', ..., '-0.9888292880158444',\n",
       "        '0.6602845993509231', 'normal'],\n",
       "       ...,\n",
       "       ['-0.5811702389675427', '0.6214823875948488',\n",
       "        '1.8871507910294323', ..., '0.9571549171394201',\n",
       "        '-1.0552814941348532', 'normal'],\n",
       "       ['0.03400204407887488', '-0.48859107325734275',\n",
       "        '-0.25059911934538437', ..., '0.9115307648919669',\n",
       "        '0.616068537271108', 'normal'],\n",
       "       ['-0.17690917421935723', '-0.9404727800001073',\n",
       "        '-0.022728557846579622', ..., '0.48535151492965567',\n",
       "        '-0.8314869392686487', 'normal']], dtype='<U32')"
      ]
     },
     "execution_count": 27,
     "metadata": {},
     "output_type": "execute_result"
    }
   ],
   "source": [
    "test1"
   ]
  },
  {
   "cell_type": "code",
   "execution_count": 28,
   "metadata": {},
   "outputs": [],
   "source": [
    "test2 = getDF('.\\\\test\\\\PNEUMONIA\\\\')\n",
    "pca = PCA(n_components=100)\n",
    "test2 = pca.fit_transform(test2)\n",
    "ss = StandardScaler()\n",
    "test2 = ss.fit_transform(test2)"
   ]
  },
  {
   "cell_type": "code",
   "execution_count": 29,
   "metadata": {},
   "outputs": [
    {
     "data": {
      "text/plain": [
       "(390, 100)"
      ]
     },
     "execution_count": 29,
     "metadata": {},
     "output_type": "execute_result"
    }
   ],
   "source": [
    "test2.shape"
   ]
  },
  {
   "cell_type": "code",
   "execution_count": 30,
   "metadata": {},
   "outputs": [],
   "source": [
    "label2 = np.array(['pneumonia']*390).reshape(-1,1) #390 is no. of rows in test2\n",
    "test2 = np.concatenate((test2,label2),axis=1)"
   ]
  },
  {
   "cell_type": "code",
   "execution_count": 31,
   "metadata": {},
   "outputs": [
    {
     "data": {
      "text/plain": [
       "(390, 101)"
      ]
     },
     "execution_count": 31,
     "metadata": {},
     "output_type": "execute_result"
    }
   ],
   "source": [
    "test2.shape"
   ]
  },
  {
   "cell_type": "code",
   "execution_count": 32,
   "metadata": {},
   "outputs": [],
   "source": [
    "test_set = np.concatenate((test1,test2),axis=0)"
   ]
  },
  {
   "cell_type": "code",
   "execution_count": 33,
   "metadata": {},
   "outputs": [
    {
     "data": {
      "text/plain": [
       "(624, 101)"
      ]
     },
     "execution_count": 33,
     "metadata": {},
     "output_type": "execute_result"
    }
   ],
   "source": [
    "test_set.shape"
   ]
  },
  {
   "cell_type": "code",
   "execution_count": 34,
   "metadata": {},
   "outputs": [
    {
     "data": {
      "text/plain": [
       "array([['0.2435974505168652', '-0.20022577281389617',\n",
       "        '-0.0714450980205829', ..., '0.2715431284374765',\n",
       "        '1.4142648225207914', 'normal'],\n",
       "       ['-0.3189901459820519', '0.17915871217475202',\n",
       "        '-1.3390605474782116', ..., '-0.11387714473892618',\n",
       "        '-0.10840600806874298', 'normal'],\n",
       "       ['0.548359998105811', '-0.7729182156077122',\n",
       "        '-0.1565039326723877', ..., '-0.9888292880158444',\n",
       "        '0.6602845993509231', 'normal'],\n",
       "       ...,\n",
       "       ['-0.36355557355225915', '0.7670313762901496',\n",
       "        '-1.243197654458368', ..., '-1.696556189162131',\n",
       "        '1.072775091836771', 'pneumonia'],\n",
       "       ['0.36613780798917467', '0.28965492998255554',\n",
       "        '-0.09134331678693175', ..., '-0.46568585432133086',\n",
       "        '0.8260306197907766', 'pneumonia'],\n",
       "       ['1.5024863252450076', '0.5041729270324699',\n",
       "        '-0.6276581888932901', ..., '0.5750047743286817',\n",
       "        '-0.3523680732404671', 'pneumonia']], dtype='<U32')"
      ]
     },
     "execution_count": 34,
     "metadata": {},
     "output_type": "execute_result"
    }
   ],
   "source": [
    "test_set"
   ]
  },
  {
   "cell_type": "code",
   "execution_count": 35,
   "metadata": {},
   "outputs": [],
   "source": [
    "np.random.shuffle(test_set)  #so as to mix data"
   ]
  },
  {
   "cell_type": "code",
   "execution_count": 36,
   "metadata": {},
   "outputs": [
    {
     "data": {
      "text/plain": [
       "array([['-0.472328445619833', '1.0856749104255496',\n",
       "        '-0.7498223394349696', ..., '-0.18517366587103312',\n",
       "        '-0.04209246187223929', 'normal'],\n",
       "       ['-1.6112131578610644', '0.13864809854227939',\n",
       "        '-0.30914738059180874', ..., '1.0343751798653746',\n",
       "        '0.07364042899342974', 'normal'],\n",
       "       ['-1.3952673776523947', '0.49855169717188313',\n",
       "        '-0.49942465842019046', ..., '0.9189371578179882',\n",
       "        '-0.8814727071071546', 'pneumonia'],\n",
       "       ...,\n",
       "       ['0.5238222497771975', '-1.5117627302426342',\n",
       "        '0.4337867584050859', ..., '0.6660620677972664',\n",
       "        '1.675814387586313', 'pneumonia'],\n",
       "       ['-0.833359176399394', '0.5555129678149998',\n",
       "        '-1.4567653884719358', ..., '-0.11672203664793739',\n",
       "        '0.7853140579003111', 'pneumonia'],\n",
       "       ['1.3380108104140156', '-0.57214533414723', '-1.0827398370118677',\n",
       "        ..., '0.1924176694792265', '-0.5225341168863505', 'pneumonia']],\n",
       "      dtype='<U32')"
      ]
     },
     "execution_count": 36,
     "metadata": {},
     "output_type": "execute_result"
    }
   ],
   "source": [
    "test_set"
   ]
  },
  {
   "cell_type": "markdown",
   "metadata": {},
   "source": [
    "### Now Our train_set and test_set is ready "
   ]
  },
  {
   "cell_type": "markdown",
   "metadata": {},
   "source": [
    "### Creating DataFrames from Numpy Arrays and then saving to CSV files"
   ]
  },
  {
   "cell_type": "code",
   "execution_count": 37,
   "metadata": {},
   "outputs": [],
   "source": [
    "train = pd.DataFrame(train_set)\n",
    "test = pd.DataFrame(test_set)"
   ]
  },
  {
   "cell_type": "code",
   "execution_count": 3,
   "metadata": {},
   "outputs": [
    {
     "ename": "NameError",
     "evalue": "name 'train' is not defined",
     "output_type": "error",
     "traceback": [
      "\u001b[1;31m---------------------------------------------------------------------------\u001b[0m",
      "\u001b[1;31mNameError\u001b[0m                                 Traceback (most recent call last)",
      "\u001b[1;32m<ipython-input-3-fc785a3da9d7>\u001b[0m in \u001b[0;36m<module>\u001b[1;34m\u001b[0m\n\u001b[1;32m----> 1\u001b[1;33m \u001b[0mtrain\u001b[0m\u001b[1;33m.\u001b[0m\u001b[0mto_csv\u001b[0m\u001b[1;33m(\u001b[0m\u001b[1;34m'train_set_new(1).csv'\u001b[0m\u001b[1;33m)\u001b[0m\u001b[1;33m\u001b[0m\u001b[1;33m\u001b[0m\u001b[0m\n\u001b[0m\u001b[0;32m      2\u001b[0m \u001b[0mtest\u001b[0m\u001b[1;33m.\u001b[0m\u001b[0mto_csv\u001b[0m\u001b[1;33m(\u001b[0m\u001b[1;34m'test_set_new(1).csv'\u001b[0m\u001b[1;33m)\u001b[0m\u001b[1;33m\u001b[0m\u001b[1;33m\u001b[0m\u001b[0m\n",
      "\u001b[1;31mNameError\u001b[0m: name 'train' is not defined"
     ]
    }
   ],
   "source": [
    "train.to_csv('train_set_new(1).csv')\n",
    "test.to_csv('test_set_new(1).csv')"
   ]
  },
  {
   "cell_type": "code",
   "execution_count": 2,
   "metadata": {},
   "outputs": [],
   "source": [
    "train = pd.read_csv('train_set_new(1).csv')\n",
    "test = pd.read_csv('test_set_new(1).csv')"
   ]
  },
  {
   "cell_type": "code",
   "execution_count": 3,
   "metadata": {},
   "outputs": [],
   "source": [
    "train = train.iloc[:,1:]"
   ]
  },
  {
   "cell_type": "code",
   "execution_count": 4,
   "metadata": {},
   "outputs": [
    {
     "data": {
      "text/html": [
       "<div>\n",
       "<style scoped>\n",
       "    .dataframe tbody tr th:only-of-type {\n",
       "        vertical-align: middle;\n",
       "    }\n",
       "\n",
       "    .dataframe tbody tr th {\n",
       "        vertical-align: top;\n",
       "    }\n",
       "\n",
       "    .dataframe thead th {\n",
       "        text-align: right;\n",
       "    }\n",
       "</style>\n",
       "<table border=\"1\" class=\"dataframe\">\n",
       "  <thead>\n",
       "    <tr style=\"text-align: right;\">\n",
       "      <th></th>\n",
       "      <th>0</th>\n",
       "      <th>1</th>\n",
       "      <th>2</th>\n",
       "      <th>3</th>\n",
       "      <th>4</th>\n",
       "      <th>5</th>\n",
       "      <th>6</th>\n",
       "      <th>7</th>\n",
       "      <th>8</th>\n",
       "      <th>9</th>\n",
       "      <th>...</th>\n",
       "      <th>91</th>\n",
       "      <th>92</th>\n",
       "      <th>93</th>\n",
       "      <th>94</th>\n",
       "      <th>95</th>\n",
       "      <th>96</th>\n",
       "      <th>97</th>\n",
       "      <th>98</th>\n",
       "      <th>99</th>\n",
       "      <th>100</th>\n",
       "    </tr>\n",
       "  </thead>\n",
       "  <tbody>\n",
       "    <tr>\n",
       "      <th>0</th>\n",
       "      <td>0.157267</td>\n",
       "      <td>-0.575144</td>\n",
       "      <td>0.126688</td>\n",
       "      <td>0.676862</td>\n",
       "      <td>0.126461</td>\n",
       "      <td>-1.919849</td>\n",
       "      <td>1.732439</td>\n",
       "      <td>0.616582</td>\n",
       "      <td>0.329325</td>\n",
       "      <td>-1.149372</td>\n",
       "      <td>...</td>\n",
       "      <td>-0.993324</td>\n",
       "      <td>-1.630420</td>\n",
       "      <td>0.023476</td>\n",
       "      <td>-1.539898</td>\n",
       "      <td>0.887128</td>\n",
       "      <td>-0.539008</td>\n",
       "      <td>0.977079</td>\n",
       "      <td>0.737772</td>\n",
       "      <td>-0.481511</td>\n",
       "      <td>pneumonia</td>\n",
       "    </tr>\n",
       "    <tr>\n",
       "      <th>1</th>\n",
       "      <td>-0.835722</td>\n",
       "      <td>-1.731349</td>\n",
       "      <td>-0.283213</td>\n",
       "      <td>-0.326797</td>\n",
       "      <td>2.225978</td>\n",
       "      <td>0.519543</td>\n",
       "      <td>-0.059671</td>\n",
       "      <td>-0.951832</td>\n",
       "      <td>1.051133</td>\n",
       "      <td>-1.542391</td>\n",
       "      <td>...</td>\n",
       "      <td>1.428640</td>\n",
       "      <td>0.214924</td>\n",
       "      <td>0.236727</td>\n",
       "      <td>0.735657</td>\n",
       "      <td>0.793324</td>\n",
       "      <td>-0.947705</td>\n",
       "      <td>-0.043214</td>\n",
       "      <td>-0.060891</td>\n",
       "      <td>0.452389</td>\n",
       "      <td>normal</td>\n",
       "    </tr>\n",
       "    <tr>\n",
       "      <th>2</th>\n",
       "      <td>-0.310200</td>\n",
       "      <td>0.785516</td>\n",
       "      <td>-1.289500</td>\n",
       "      <td>-1.089452</td>\n",
       "      <td>-0.128506</td>\n",
       "      <td>-0.194918</td>\n",
       "      <td>1.717981</td>\n",
       "      <td>-0.748433</td>\n",
       "      <td>-1.279298</td>\n",
       "      <td>1.702871</td>\n",
       "      <td>...</td>\n",
       "      <td>-1.034225</td>\n",
       "      <td>-0.208928</td>\n",
       "      <td>0.466460</td>\n",
       "      <td>-0.733281</td>\n",
       "      <td>0.293464</td>\n",
       "      <td>0.015909</td>\n",
       "      <td>0.129915</td>\n",
       "      <td>0.608230</td>\n",
       "      <td>1.003302</td>\n",
       "      <td>normal</td>\n",
       "    </tr>\n",
       "    <tr>\n",
       "      <th>3</th>\n",
       "      <td>0.386720</td>\n",
       "      <td>-0.559531</td>\n",
       "      <td>-0.528551</td>\n",
       "      <td>0.999788</td>\n",
       "      <td>2.079317</td>\n",
       "      <td>-0.937689</td>\n",
       "      <td>-0.492586</td>\n",
       "      <td>-0.477585</td>\n",
       "      <td>0.900361</td>\n",
       "      <td>1.667053</td>\n",
       "      <td>...</td>\n",
       "      <td>-0.006583</td>\n",
       "      <td>-0.399218</td>\n",
       "      <td>-1.202125</td>\n",
       "      <td>2.080307</td>\n",
       "      <td>-0.423147</td>\n",
       "      <td>1.647414</td>\n",
       "      <td>1.149927</td>\n",
       "      <td>-2.428944</td>\n",
       "      <td>1.754039</td>\n",
       "      <td>pneumonia</td>\n",
       "    </tr>\n",
       "    <tr>\n",
       "      <th>4</th>\n",
       "      <td>-1.012918</td>\n",
       "      <td>0.239050</td>\n",
       "      <td>-1.014667</td>\n",
       "      <td>0.743340</td>\n",
       "      <td>-0.616652</td>\n",
       "      <td>0.096820</td>\n",
       "      <td>0.443685</td>\n",
       "      <td>2.675547</td>\n",
       "      <td>0.525062</td>\n",
       "      <td>0.833926</td>\n",
       "      <td>...</td>\n",
       "      <td>1.767198</td>\n",
       "      <td>-0.783279</td>\n",
       "      <td>0.407633</td>\n",
       "      <td>-0.463602</td>\n",
       "      <td>0.609334</td>\n",
       "      <td>1.119718</td>\n",
       "      <td>0.662544</td>\n",
       "      <td>-1.078070</td>\n",
       "      <td>0.393151</td>\n",
       "      <td>pneumonia</td>\n",
       "    </tr>\n",
       "    <tr>\n",
       "      <th>...</th>\n",
       "      <td>...</td>\n",
       "      <td>...</td>\n",
       "      <td>...</td>\n",
       "      <td>...</td>\n",
       "      <td>...</td>\n",
       "      <td>...</td>\n",
       "      <td>...</td>\n",
       "      <td>...</td>\n",
       "      <td>...</td>\n",
       "      <td>...</td>\n",
       "      <td>...</td>\n",
       "      <td>...</td>\n",
       "      <td>...</td>\n",
       "      <td>...</td>\n",
       "      <td>...</td>\n",
       "      <td>...</td>\n",
       "      <td>...</td>\n",
       "      <td>...</td>\n",
       "      <td>...</td>\n",
       "      <td>...</td>\n",
       "      <td>...</td>\n",
       "    </tr>\n",
       "    <tr>\n",
       "      <th>4928</th>\n",
       "      <td>-0.622092</td>\n",
       "      <td>-0.329003</td>\n",
       "      <td>3.225326</td>\n",
       "      <td>-0.141524</td>\n",
       "      <td>0.659889</td>\n",
       "      <td>-1.817977</td>\n",
       "      <td>-0.276274</td>\n",
       "      <td>0.786053</td>\n",
       "      <td>-0.207272</td>\n",
       "      <td>-0.526336</td>\n",
       "      <td>...</td>\n",
       "      <td>0.471102</td>\n",
       "      <td>-0.687190</td>\n",
       "      <td>0.304304</td>\n",
       "      <td>-1.085896</td>\n",
       "      <td>-0.562243</td>\n",
       "      <td>1.764842</td>\n",
       "      <td>-0.489863</td>\n",
       "      <td>1.110622</td>\n",
       "      <td>0.586836</td>\n",
       "      <td>pneumonia</td>\n",
       "    </tr>\n",
       "    <tr>\n",
       "      <th>4929</th>\n",
       "      <td>-1.051548</td>\n",
       "      <td>1.173304</td>\n",
       "      <td>-0.002965</td>\n",
       "      <td>-0.317289</td>\n",
       "      <td>-0.317248</td>\n",
       "      <td>1.985175</td>\n",
       "      <td>1.022249</td>\n",
       "      <td>0.492459</td>\n",
       "      <td>1.223128</td>\n",
       "      <td>-0.629469</td>\n",
       "      <td>...</td>\n",
       "      <td>-0.730875</td>\n",
       "      <td>0.551183</td>\n",
       "      <td>-0.334284</td>\n",
       "      <td>0.269307</td>\n",
       "      <td>-0.335257</td>\n",
       "      <td>-0.682103</td>\n",
       "      <td>-0.890917</td>\n",
       "      <td>-0.342231</td>\n",
       "      <td>-0.572316</td>\n",
       "      <td>normal</td>\n",
       "    </tr>\n",
       "    <tr>\n",
       "      <th>4930</th>\n",
       "      <td>-0.210589</td>\n",
       "      <td>-0.680159</td>\n",
       "      <td>2.024196</td>\n",
       "      <td>-0.037799</td>\n",
       "      <td>0.135143</td>\n",
       "      <td>-0.951916</td>\n",
       "      <td>-0.602355</td>\n",
       "      <td>2.658844</td>\n",
       "      <td>1.094505</td>\n",
       "      <td>0.115664</td>\n",
       "      <td>...</td>\n",
       "      <td>-0.950461</td>\n",
       "      <td>-0.946428</td>\n",
       "      <td>-1.597650</td>\n",
       "      <td>0.554678</td>\n",
       "      <td>0.132048</td>\n",
       "      <td>-2.051183</td>\n",
       "      <td>-0.580766</td>\n",
       "      <td>1.365550</td>\n",
       "      <td>-0.149296</td>\n",
       "      <td>pneumonia</td>\n",
       "    </tr>\n",
       "    <tr>\n",
       "      <th>4931</th>\n",
       "      <td>2.300920</td>\n",
       "      <td>1.696866</td>\n",
       "      <td>-0.036065</td>\n",
       "      <td>-1.154284</td>\n",
       "      <td>0.639921</td>\n",
       "      <td>0.856795</td>\n",
       "      <td>-1.310928</td>\n",
       "      <td>-0.703027</td>\n",
       "      <td>0.269764</td>\n",
       "      <td>0.554876</td>\n",
       "      <td>...</td>\n",
       "      <td>-0.549636</td>\n",
       "      <td>-2.401481</td>\n",
       "      <td>0.463962</td>\n",
       "      <td>-1.656400</td>\n",
       "      <td>0.208008</td>\n",
       "      <td>-0.944048</td>\n",
       "      <td>0.888724</td>\n",
       "      <td>-0.192781</td>\n",
       "      <td>0.307239</td>\n",
       "      <td>pneumonia</td>\n",
       "    </tr>\n",
       "    <tr>\n",
       "      <th>4932</th>\n",
       "      <td>0.222767</td>\n",
       "      <td>-0.842782</td>\n",
       "      <td>0.288649</td>\n",
       "      <td>0.923072</td>\n",
       "      <td>0.384254</td>\n",
       "      <td>-0.639586</td>\n",
       "      <td>-0.061176</td>\n",
       "      <td>0.098190</td>\n",
       "      <td>0.966880</td>\n",
       "      <td>-0.809455</td>\n",
       "      <td>...</td>\n",
       "      <td>0.791962</td>\n",
       "      <td>-1.284846</td>\n",
       "      <td>-0.943857</td>\n",
       "      <td>0.701172</td>\n",
       "      <td>-0.123610</td>\n",
       "      <td>-1.871944</td>\n",
       "      <td>-0.592803</td>\n",
       "      <td>0.000781</td>\n",
       "      <td>1.137084</td>\n",
       "      <td>pneumonia</td>\n",
       "    </tr>\n",
       "  </tbody>\n",
       "</table>\n",
       "<p>4933 rows × 101 columns</p>\n",
       "</div>"
      ],
      "text/plain": [
       "             0         1         2         3         4         5         6  \\\n",
       "0     0.157267 -0.575144  0.126688  0.676862  0.126461 -1.919849  1.732439   \n",
       "1    -0.835722 -1.731349 -0.283213 -0.326797  2.225978  0.519543 -0.059671   \n",
       "2    -0.310200  0.785516 -1.289500 -1.089452 -0.128506 -0.194918  1.717981   \n",
       "3     0.386720 -0.559531 -0.528551  0.999788  2.079317 -0.937689 -0.492586   \n",
       "4    -1.012918  0.239050 -1.014667  0.743340 -0.616652  0.096820  0.443685   \n",
       "...        ...       ...       ...       ...       ...       ...       ...   \n",
       "4928 -0.622092 -0.329003  3.225326 -0.141524  0.659889 -1.817977 -0.276274   \n",
       "4929 -1.051548  1.173304 -0.002965 -0.317289 -0.317248  1.985175  1.022249   \n",
       "4930 -0.210589 -0.680159  2.024196 -0.037799  0.135143 -0.951916 -0.602355   \n",
       "4931  2.300920  1.696866 -0.036065 -1.154284  0.639921  0.856795 -1.310928   \n",
       "4932  0.222767 -0.842782  0.288649  0.923072  0.384254 -0.639586 -0.061176   \n",
       "\n",
       "             7         8         9  ...        91        92        93  \\\n",
       "0     0.616582  0.329325 -1.149372  ... -0.993324 -1.630420  0.023476   \n",
       "1    -0.951832  1.051133 -1.542391  ...  1.428640  0.214924  0.236727   \n",
       "2    -0.748433 -1.279298  1.702871  ... -1.034225 -0.208928  0.466460   \n",
       "3    -0.477585  0.900361  1.667053  ... -0.006583 -0.399218 -1.202125   \n",
       "4     2.675547  0.525062  0.833926  ...  1.767198 -0.783279  0.407633   \n",
       "...        ...       ...       ...  ...       ...       ...       ...   \n",
       "4928  0.786053 -0.207272 -0.526336  ...  0.471102 -0.687190  0.304304   \n",
       "4929  0.492459  1.223128 -0.629469  ... -0.730875  0.551183 -0.334284   \n",
       "4930  2.658844  1.094505  0.115664  ... -0.950461 -0.946428 -1.597650   \n",
       "4931 -0.703027  0.269764  0.554876  ... -0.549636 -2.401481  0.463962   \n",
       "4932  0.098190  0.966880 -0.809455  ...  0.791962 -1.284846 -0.943857   \n",
       "\n",
       "            94        95        96        97        98        99        100  \n",
       "0    -1.539898  0.887128 -0.539008  0.977079  0.737772 -0.481511  pneumonia  \n",
       "1     0.735657  0.793324 -0.947705 -0.043214 -0.060891  0.452389     normal  \n",
       "2    -0.733281  0.293464  0.015909  0.129915  0.608230  1.003302     normal  \n",
       "3     2.080307 -0.423147  1.647414  1.149927 -2.428944  1.754039  pneumonia  \n",
       "4    -0.463602  0.609334  1.119718  0.662544 -1.078070  0.393151  pneumonia  \n",
       "...        ...       ...       ...       ...       ...       ...        ...  \n",
       "4928 -1.085896 -0.562243  1.764842 -0.489863  1.110622  0.586836  pneumonia  \n",
       "4929  0.269307 -0.335257 -0.682103 -0.890917 -0.342231 -0.572316     normal  \n",
       "4930  0.554678  0.132048 -2.051183 -0.580766  1.365550 -0.149296  pneumonia  \n",
       "4931 -1.656400  0.208008 -0.944048  0.888724 -0.192781  0.307239  pneumonia  \n",
       "4932  0.701172 -0.123610 -1.871944 -0.592803  0.000781  1.137084  pneumonia  \n",
       "\n",
       "[4933 rows x 101 columns]"
      ]
     },
     "execution_count": 4,
     "metadata": {},
     "output_type": "execute_result"
    }
   ],
   "source": [
    "train"
   ]
  },
  {
   "cell_type": "code",
   "execution_count": 5,
   "metadata": {},
   "outputs": [],
   "source": [
    "test = test.iloc[:,1:]"
   ]
  },
  {
   "cell_type": "code",
   "execution_count": 6,
   "metadata": {},
   "outputs": [
    {
     "data": {
      "text/html": [
       "<div>\n",
       "<style scoped>\n",
       "    .dataframe tbody tr th:only-of-type {\n",
       "        vertical-align: middle;\n",
       "    }\n",
       "\n",
       "    .dataframe tbody tr th {\n",
       "        vertical-align: top;\n",
       "    }\n",
       "\n",
       "    .dataframe thead th {\n",
       "        text-align: right;\n",
       "    }\n",
       "</style>\n",
       "<table border=\"1\" class=\"dataframe\">\n",
       "  <thead>\n",
       "    <tr style=\"text-align: right;\">\n",
       "      <th></th>\n",
       "      <th>0</th>\n",
       "      <th>1</th>\n",
       "      <th>2</th>\n",
       "      <th>3</th>\n",
       "      <th>4</th>\n",
       "      <th>5</th>\n",
       "      <th>6</th>\n",
       "      <th>7</th>\n",
       "      <th>8</th>\n",
       "      <th>9</th>\n",
       "      <th>...</th>\n",
       "      <th>91</th>\n",
       "      <th>92</th>\n",
       "      <th>93</th>\n",
       "      <th>94</th>\n",
       "      <th>95</th>\n",
       "      <th>96</th>\n",
       "      <th>97</th>\n",
       "      <th>98</th>\n",
       "      <th>99</th>\n",
       "      <th>100</th>\n",
       "    </tr>\n",
       "  </thead>\n",
       "  <tbody>\n",
       "    <tr>\n",
       "      <th>0</th>\n",
       "      <td>-0.472328</td>\n",
       "      <td>1.085675</td>\n",
       "      <td>-0.749822</td>\n",
       "      <td>-0.285467</td>\n",
       "      <td>-0.660540</td>\n",
       "      <td>1.155998</td>\n",
       "      <td>1.479402</td>\n",
       "      <td>2.153203</td>\n",
       "      <td>-0.736417</td>\n",
       "      <td>-0.575742</td>\n",
       "      <td>...</td>\n",
       "      <td>-0.628115</td>\n",
       "      <td>2.765040</td>\n",
       "      <td>0.388121</td>\n",
       "      <td>0.017820</td>\n",
       "      <td>0.564266</td>\n",
       "      <td>3.588024</td>\n",
       "      <td>1.254184</td>\n",
       "      <td>-0.185174</td>\n",
       "      <td>-0.042092</td>\n",
       "      <td>normal</td>\n",
       "    </tr>\n",
       "    <tr>\n",
       "      <th>1</th>\n",
       "      <td>-1.611213</td>\n",
       "      <td>0.138648</td>\n",
       "      <td>-0.309147</td>\n",
       "      <td>0.434265</td>\n",
       "      <td>1.272825</td>\n",
       "      <td>0.918080</td>\n",
       "      <td>-0.860235</td>\n",
       "      <td>0.470946</td>\n",
       "      <td>1.993507</td>\n",
       "      <td>0.197789</td>\n",
       "      <td>...</td>\n",
       "      <td>0.667431</td>\n",
       "      <td>-0.280414</td>\n",
       "      <td>0.718071</td>\n",
       "      <td>-0.732875</td>\n",
       "      <td>0.002123</td>\n",
       "      <td>-0.209649</td>\n",
       "      <td>-0.569940</td>\n",
       "      <td>1.034375</td>\n",
       "      <td>0.073640</td>\n",
       "      <td>normal</td>\n",
       "    </tr>\n",
       "    <tr>\n",
       "      <th>2</th>\n",
       "      <td>-1.395267</td>\n",
       "      <td>0.498552</td>\n",
       "      <td>-0.499425</td>\n",
       "      <td>1.321080</td>\n",
       "      <td>-0.046659</td>\n",
       "      <td>0.603096</td>\n",
       "      <td>-0.752792</td>\n",
       "      <td>1.658666</td>\n",
       "      <td>-0.347820</td>\n",
       "      <td>-1.254308</td>\n",
       "      <td>...</td>\n",
       "      <td>0.078020</td>\n",
       "      <td>-1.768159</td>\n",
       "      <td>0.383000</td>\n",
       "      <td>-0.561510</td>\n",
       "      <td>2.162461</td>\n",
       "      <td>2.458636</td>\n",
       "      <td>-1.734497</td>\n",
       "      <td>0.918937</td>\n",
       "      <td>-0.881473</td>\n",
       "      <td>pneumonia</td>\n",
       "    </tr>\n",
       "    <tr>\n",
       "      <th>3</th>\n",
       "      <td>-0.182810</td>\n",
       "      <td>-0.466491</td>\n",
       "      <td>0.333916</td>\n",
       "      <td>0.151990</td>\n",
       "      <td>-1.288084</td>\n",
       "      <td>0.667536</td>\n",
       "      <td>-0.614238</td>\n",
       "      <td>1.065337</td>\n",
       "      <td>0.093364</td>\n",
       "      <td>1.306338</td>\n",
       "      <td>...</td>\n",
       "      <td>-0.727984</td>\n",
       "      <td>-0.180255</td>\n",
       "      <td>-0.043039</td>\n",
       "      <td>0.169466</td>\n",
       "      <td>0.770236</td>\n",
       "      <td>-0.267623</td>\n",
       "      <td>-0.924222</td>\n",
       "      <td>0.719277</td>\n",
       "      <td>1.590103</td>\n",
       "      <td>normal</td>\n",
       "    </tr>\n",
       "    <tr>\n",
       "      <th>4</th>\n",
       "      <td>0.076269</td>\n",
       "      <td>-0.495397</td>\n",
       "      <td>-0.631994</td>\n",
       "      <td>-1.498722</td>\n",
       "      <td>0.931141</td>\n",
       "      <td>0.529889</td>\n",
       "      <td>-0.785312</td>\n",
       "      <td>1.255342</td>\n",
       "      <td>-1.256478</td>\n",
       "      <td>0.997527</td>\n",
       "      <td>...</td>\n",
       "      <td>1.373401</td>\n",
       "      <td>0.131782</td>\n",
       "      <td>0.888906</td>\n",
       "      <td>-2.067776</td>\n",
       "      <td>-2.914500</td>\n",
       "      <td>-0.991065</td>\n",
       "      <td>0.757489</td>\n",
       "      <td>-0.810601</td>\n",
       "      <td>0.720773</td>\n",
       "      <td>pneumonia</td>\n",
       "    </tr>\n",
       "    <tr>\n",
       "      <th>...</th>\n",
       "      <td>...</td>\n",
       "      <td>...</td>\n",
       "      <td>...</td>\n",
       "      <td>...</td>\n",
       "      <td>...</td>\n",
       "      <td>...</td>\n",
       "      <td>...</td>\n",
       "      <td>...</td>\n",
       "      <td>...</td>\n",
       "      <td>...</td>\n",
       "      <td>...</td>\n",
       "      <td>...</td>\n",
       "      <td>...</td>\n",
       "      <td>...</td>\n",
       "      <td>...</td>\n",
       "      <td>...</td>\n",
       "      <td>...</td>\n",
       "      <td>...</td>\n",
       "      <td>...</td>\n",
       "      <td>...</td>\n",
       "      <td>...</td>\n",
       "    </tr>\n",
       "    <tr>\n",
       "      <th>619</th>\n",
       "      <td>0.036397</td>\n",
       "      <td>0.782307</td>\n",
       "      <td>-0.311328</td>\n",
       "      <td>2.275654</td>\n",
       "      <td>0.743151</td>\n",
       "      <td>-0.169907</td>\n",
       "      <td>0.641820</td>\n",
       "      <td>-0.393318</td>\n",
       "      <td>0.108730</td>\n",
       "      <td>1.328702</td>\n",
       "      <td>...</td>\n",
       "      <td>-1.012574</td>\n",
       "      <td>0.641899</td>\n",
       "      <td>0.388221</td>\n",
       "      <td>-0.804695</td>\n",
       "      <td>0.311737</td>\n",
       "      <td>-1.939007</td>\n",
       "      <td>-1.608960</td>\n",
       "      <td>2.280191</td>\n",
       "      <td>0.985555</td>\n",
       "      <td>pneumonia</td>\n",
       "    </tr>\n",
       "    <tr>\n",
       "      <th>620</th>\n",
       "      <td>-1.285837</td>\n",
       "      <td>-0.097869</td>\n",
       "      <td>-1.654277</td>\n",
       "      <td>2.415355</td>\n",
       "      <td>0.001143</td>\n",
       "      <td>0.723349</td>\n",
       "      <td>-2.388542</td>\n",
       "      <td>0.636638</td>\n",
       "      <td>0.491117</td>\n",
       "      <td>-0.975233</td>\n",
       "      <td>...</td>\n",
       "      <td>-1.673415</td>\n",
       "      <td>0.999384</td>\n",
       "      <td>0.462888</td>\n",
       "      <td>0.667374</td>\n",
       "      <td>-1.094062</td>\n",
       "      <td>0.864363</td>\n",
       "      <td>1.657094</td>\n",
       "      <td>1.269903</td>\n",
       "      <td>-1.383065</td>\n",
       "      <td>pneumonia</td>\n",
       "    </tr>\n",
       "    <tr>\n",
       "      <th>621</th>\n",
       "      <td>0.523822</td>\n",
       "      <td>-1.511763</td>\n",
       "      <td>0.433787</td>\n",
       "      <td>0.211104</td>\n",
       "      <td>-0.089689</td>\n",
       "      <td>-0.522175</td>\n",
       "      <td>1.711209</td>\n",
       "      <td>0.459471</td>\n",
       "      <td>-1.870358</td>\n",
       "      <td>-0.399379</td>\n",
       "      <td>...</td>\n",
       "      <td>0.513650</td>\n",
       "      <td>-0.053010</td>\n",
       "      <td>0.355692</td>\n",
       "      <td>-0.236023</td>\n",
       "      <td>-0.504184</td>\n",
       "      <td>-0.143812</td>\n",
       "      <td>-0.518827</td>\n",
       "      <td>0.666062</td>\n",
       "      <td>1.675814</td>\n",
       "      <td>pneumonia</td>\n",
       "    </tr>\n",
       "    <tr>\n",
       "      <th>622</th>\n",
       "      <td>-0.833359</td>\n",
       "      <td>0.555513</td>\n",
       "      <td>-1.456765</td>\n",
       "      <td>-0.736341</td>\n",
       "      <td>-0.226297</td>\n",
       "      <td>2.264432</td>\n",
       "      <td>-0.908161</td>\n",
       "      <td>0.425276</td>\n",
       "      <td>-0.458456</td>\n",
       "      <td>1.163734</td>\n",
       "      <td>...</td>\n",
       "      <td>-2.434992</td>\n",
       "      <td>-1.342190</td>\n",
       "      <td>0.923463</td>\n",
       "      <td>0.623303</td>\n",
       "      <td>-0.519073</td>\n",
       "      <td>0.206085</td>\n",
       "      <td>0.377749</td>\n",
       "      <td>-0.116722</td>\n",
       "      <td>0.785314</td>\n",
       "      <td>pneumonia</td>\n",
       "    </tr>\n",
       "    <tr>\n",
       "      <th>623</th>\n",
       "      <td>1.338011</td>\n",
       "      <td>-0.572145</td>\n",
       "      <td>-1.082740</td>\n",
       "      <td>1.095511</td>\n",
       "      <td>0.722202</td>\n",
       "      <td>0.359082</td>\n",
       "      <td>0.977525</td>\n",
       "      <td>-0.681732</td>\n",
       "      <td>-0.547867</td>\n",
       "      <td>0.860601</td>\n",
       "      <td>...</td>\n",
       "      <td>-1.876963</td>\n",
       "      <td>2.441270</td>\n",
       "      <td>-0.451888</td>\n",
       "      <td>0.744018</td>\n",
       "      <td>-0.557665</td>\n",
       "      <td>0.211783</td>\n",
       "      <td>1.290103</td>\n",
       "      <td>0.192418</td>\n",
       "      <td>-0.522534</td>\n",
       "      <td>pneumonia</td>\n",
       "    </tr>\n",
       "  </tbody>\n",
       "</table>\n",
       "<p>624 rows × 101 columns</p>\n",
       "</div>"
      ],
      "text/plain": [
       "            0         1         2         3         4         5         6  \\\n",
       "0   -0.472328  1.085675 -0.749822 -0.285467 -0.660540  1.155998  1.479402   \n",
       "1   -1.611213  0.138648 -0.309147  0.434265  1.272825  0.918080 -0.860235   \n",
       "2   -1.395267  0.498552 -0.499425  1.321080 -0.046659  0.603096 -0.752792   \n",
       "3   -0.182810 -0.466491  0.333916  0.151990 -1.288084  0.667536 -0.614238   \n",
       "4    0.076269 -0.495397 -0.631994 -1.498722  0.931141  0.529889 -0.785312   \n",
       "..        ...       ...       ...       ...       ...       ...       ...   \n",
       "619  0.036397  0.782307 -0.311328  2.275654  0.743151 -0.169907  0.641820   \n",
       "620 -1.285837 -0.097869 -1.654277  2.415355  0.001143  0.723349 -2.388542   \n",
       "621  0.523822 -1.511763  0.433787  0.211104 -0.089689 -0.522175  1.711209   \n",
       "622 -0.833359  0.555513 -1.456765 -0.736341 -0.226297  2.264432 -0.908161   \n",
       "623  1.338011 -0.572145 -1.082740  1.095511  0.722202  0.359082  0.977525   \n",
       "\n",
       "            7         8         9  ...        91        92        93  \\\n",
       "0    2.153203 -0.736417 -0.575742  ... -0.628115  2.765040  0.388121   \n",
       "1    0.470946  1.993507  0.197789  ...  0.667431 -0.280414  0.718071   \n",
       "2    1.658666 -0.347820 -1.254308  ...  0.078020 -1.768159  0.383000   \n",
       "3    1.065337  0.093364  1.306338  ... -0.727984 -0.180255 -0.043039   \n",
       "4    1.255342 -1.256478  0.997527  ...  1.373401  0.131782  0.888906   \n",
       "..        ...       ...       ...  ...       ...       ...       ...   \n",
       "619 -0.393318  0.108730  1.328702  ... -1.012574  0.641899  0.388221   \n",
       "620  0.636638  0.491117 -0.975233  ... -1.673415  0.999384  0.462888   \n",
       "621  0.459471 -1.870358 -0.399379  ...  0.513650 -0.053010  0.355692   \n",
       "622  0.425276 -0.458456  1.163734  ... -2.434992 -1.342190  0.923463   \n",
       "623 -0.681732 -0.547867  0.860601  ... -1.876963  2.441270 -0.451888   \n",
       "\n",
       "           94        95        96        97        98        99        100  \n",
       "0    0.017820  0.564266  3.588024  1.254184 -0.185174 -0.042092     normal  \n",
       "1   -0.732875  0.002123 -0.209649 -0.569940  1.034375  0.073640     normal  \n",
       "2   -0.561510  2.162461  2.458636 -1.734497  0.918937 -0.881473  pneumonia  \n",
       "3    0.169466  0.770236 -0.267623 -0.924222  0.719277  1.590103     normal  \n",
       "4   -2.067776 -2.914500 -0.991065  0.757489 -0.810601  0.720773  pneumonia  \n",
       "..        ...       ...       ...       ...       ...       ...        ...  \n",
       "619 -0.804695  0.311737 -1.939007 -1.608960  2.280191  0.985555  pneumonia  \n",
       "620  0.667374 -1.094062  0.864363  1.657094  1.269903 -1.383065  pneumonia  \n",
       "621 -0.236023 -0.504184 -0.143812 -0.518827  0.666062  1.675814  pneumonia  \n",
       "622  0.623303 -0.519073  0.206085  0.377749 -0.116722  0.785314  pneumonia  \n",
       "623  0.744018 -0.557665  0.211783  1.290103  0.192418 -0.522534  pneumonia  \n",
       "\n",
       "[624 rows x 101 columns]"
      ]
     },
     "execution_count": 6,
     "metadata": {},
     "output_type": "execute_result"
    }
   ],
   "source": [
    "test"
   ]
  },
  {
   "cell_type": "code",
   "execution_count": 7,
   "metadata": {},
   "outputs": [],
   "source": [
    "X_train = train.iloc[:, :-1].values\n",
    "Y_train = train.iloc[:,-1].values\n",
    "X_test = test.iloc[:, :-1].values\n",
    "Y_test = test.iloc[:,-1].values"
   ]
  },
  {
   "cell_type": "markdown",
   "metadata": {},
   "source": [
    "# Training a Kernel SVM model"
   ]
  },
  {
   "cell_type": "code",
   "execution_count": 134,
   "metadata": {},
   "outputs": [
    {
     "name": "stdout",
     "output_type": "stream",
     "text": [
      "[LibSVM]"
     ]
    },
    {
     "data": {
      "text/plain": [
       "SVC(C=2, break_ties=False, cache_size=200, class_weight=None, coef0=0.0,\n",
       "    decision_function_shape='ovr', degree=3, gamma='scale', kernel='rbf',\n",
       "    max_iter=-1, probability=False, random_state=None, shrinking=True,\n",
       "    tol=0.001, verbose=True)"
      ]
     },
     "execution_count": 134,
     "metadata": {},
     "output_type": "execute_result"
    }
   ],
   "source": [
    "classifier = SVC(C=2,kernel = 'rbf',verbose=True)\n",
    "classifier.fit(X_train, Y_train)"
   ]
  },
  {
   "cell_type": "markdown",
   "metadata": {},
   "source": [
    "## Making prediction on test set"
   ]
  },
  {
   "cell_type": "code",
   "execution_count": 135,
   "metadata": {},
   "outputs": [],
   "source": [
    "Y_pred = classifier.predict(X_test)\n",
    "Y_predTrain = classifier.predict(X_train)"
   ]
  },
  {
   "cell_type": "markdown",
   "metadata": {},
   "source": [
    "## Evaluating Results"
   ]
  },
  {
   "cell_type": "code",
   "execution_count": 136,
   "metadata": {},
   "outputs": [
    {
     "data": {
      "text/plain": [
       "0.9499290492600851"
      ]
     },
     "execution_count": 136,
     "metadata": {},
     "output_type": "execute_result"
    }
   ],
   "source": [
    "from sklearn.metrics import accuracy_score\n",
    "accuracy_score(Y_train, Y_predTrain)  #Training Accuaracy"
   ]
  },
  {
   "cell_type": "code",
   "execution_count": 137,
   "metadata": {
    "scrolled": true
   },
   "outputs": [
    {
     "data": {
      "text/plain": [
       "0.625"
      ]
     },
     "execution_count": 137,
     "metadata": {},
     "output_type": "execute_result"
    }
   ],
   "source": [
    "accuracy_score(Y_test, Y_pred)  #Testing Accuracy"
   ]
  },
  {
   "cell_type": "code",
   "execution_count": 138,
   "metadata": {},
   "outputs": [
    {
     "data": {
      "text/html": [
       "<div>\n",
       "<style scoped>\n",
       "    .dataframe tbody tr th:only-of-type {\n",
       "        vertical-align: middle;\n",
       "    }\n",
       "\n",
       "    .dataframe tbody tr th {\n",
       "        vertical-align: top;\n",
       "    }\n",
       "\n",
       "    .dataframe thead th {\n",
       "        text-align: right;\n",
       "    }\n",
       "</style>\n",
       "<table border=\"1\" class=\"dataframe\">\n",
       "  <thead>\n",
       "    <tr style=\"text-align: right;\">\n",
       "      <th></th>\n",
       "      <th>0</th>\n",
       "      <th>1</th>\n",
       "    </tr>\n",
       "  </thead>\n",
       "  <tbody>\n",
       "    <tr>\n",
       "      <th>0</th>\n",
       "      <td>0</td>\n",
       "      <td>234</td>\n",
       "    </tr>\n",
       "    <tr>\n",
       "      <th>1</th>\n",
       "      <td>0</td>\n",
       "      <td>390</td>\n",
       "    </tr>\n",
       "  </tbody>\n",
       "</table>\n",
       "</div>"
      ],
      "text/plain": [
       "   0    1\n",
       "0  0  234\n",
       "1  0  390"
      ]
     },
     "execution_count": 138,
     "metadata": {},
     "output_type": "execute_result"
    }
   ],
   "source": [
    "from sklearn.metrics import confusion_matrix\n",
    "pd.DataFrame(confusion_matrix(Y_test, Y_pred))"
   ]
  },
  {
   "cell_type": "code",
   "execution_count": 139,
   "metadata": {},
   "outputs": [
    {
     "data": {
      "text/html": [
       "<div>\n",
       "<style scoped>\n",
       "    .dataframe tbody tr th:only-of-type {\n",
       "        vertical-align: middle;\n",
       "    }\n",
       "\n",
       "    .dataframe tbody tr th {\n",
       "        vertical-align: top;\n",
       "    }\n",
       "\n",
       "    .dataframe thead th {\n",
       "        text-align: right;\n",
       "    }\n",
       "</style>\n",
       "<table border=\"1\" class=\"dataframe\">\n",
       "  <thead>\n",
       "    <tr style=\"text-align: right;\">\n",
       "      <th></th>\n",
       "      <th>0</th>\n",
       "      <th>1</th>\n",
       "    </tr>\n",
       "  </thead>\n",
       "  <tbody>\n",
       "    <tr>\n",
       "      <th>0</th>\n",
       "      <td>1094</td>\n",
       "      <td>247</td>\n",
       "    </tr>\n",
       "    <tr>\n",
       "      <th>1</th>\n",
       "      <td>0</td>\n",
       "      <td>3592</td>\n",
       "    </tr>\n",
       "  </tbody>\n",
       "</table>\n",
       "</div>"
      ],
      "text/plain": [
       "      0     1\n",
       "0  1094   247\n",
       "1     0  3592"
      ]
     },
     "execution_count": 139,
     "metadata": {},
     "output_type": "execute_result"
    }
   ],
   "source": [
    "pd.DataFrame(confusion_matrix(Y_train, Y_predTrain))"
   ]
  },
  {
   "cell_type": "markdown",
   "metadata": {},
   "source": [
    "# Training a linear SVM model"
   ]
  },
  {
   "cell_type": "code",
   "execution_count": 140,
   "metadata": {},
   "outputs": [
    {
     "data": {
      "text/plain": [
       "SVC(C=2, break_ties=False, cache_size=200, class_weight=None, coef0=0.0,\n",
       "    decision_function_shape='ovr', degree=3, gamma='scale', kernel='linear',\n",
       "    max_iter=-1, probability=False, random_state=None, shrinking=True,\n",
       "    tol=0.001, verbose=False)"
      ]
     },
     "execution_count": 140,
     "metadata": {},
     "output_type": "execute_result"
    }
   ],
   "source": [
    "classifier = SVC(C=2,kernel = 'linear')\n",
    "classifier.fit(X_train, Y_train)"
   ]
  },
  {
   "cell_type": "markdown",
   "metadata": {},
   "source": [
    "## Making prediction on test set"
   ]
  },
  {
   "cell_type": "code",
   "execution_count": 141,
   "metadata": {},
   "outputs": [],
   "source": [
    "Y_pred = classifier.predict(X_test)\n",
    "Y_predTrain = classifier.predict(X_train)"
   ]
  },
  {
   "cell_type": "markdown",
   "metadata": {},
   "source": [
    "## Evaluating Results"
   ]
  },
  {
   "cell_type": "code",
   "execution_count": 142,
   "metadata": {},
   "outputs": [
    {
     "data": {
      "text/plain": [
       "0.7281573079262113"
      ]
     },
     "execution_count": 142,
     "metadata": {},
     "output_type": "execute_result"
    }
   ],
   "source": [
    "from sklearn.metrics import accuracy_score\n",
    "accuracy_score(Y_train, Y_predTrain)  #Training Accuaracy"
   ]
  },
  {
   "cell_type": "code",
   "execution_count": 143,
   "metadata": {},
   "outputs": [
    {
     "data": {
      "text/plain": [
       "0.625"
      ]
     },
     "execution_count": 143,
     "metadata": {},
     "output_type": "execute_result"
    }
   ],
   "source": [
    "accuracy_score(Y_test, Y_pred)  #Testing Accuracy"
   ]
  },
  {
   "cell_type": "code",
   "execution_count": 145,
   "metadata": {},
   "outputs": [
    {
     "data": {
      "text/html": [
       "<div>\n",
       "<style scoped>\n",
       "    .dataframe tbody tr th:only-of-type {\n",
       "        vertical-align: middle;\n",
       "    }\n",
       "\n",
       "    .dataframe tbody tr th {\n",
       "        vertical-align: top;\n",
       "    }\n",
       "\n",
       "    .dataframe thead th {\n",
       "        text-align: right;\n",
       "    }\n",
       "</style>\n",
       "<table border=\"1\" class=\"dataframe\">\n",
       "  <thead>\n",
       "    <tr style=\"text-align: right;\">\n",
       "      <th></th>\n",
       "      <th>0</th>\n",
       "      <th>1</th>\n",
       "    </tr>\n",
       "  </thead>\n",
       "  <tbody>\n",
       "    <tr>\n",
       "      <th>0</th>\n",
       "      <td>0</td>\n",
       "      <td>234</td>\n",
       "    </tr>\n",
       "    <tr>\n",
       "      <th>1</th>\n",
       "      <td>0</td>\n",
       "      <td>390</td>\n",
       "    </tr>\n",
       "  </tbody>\n",
       "</table>\n",
       "</div>"
      ],
      "text/plain": [
       "   0    1\n",
       "0  0  234\n",
       "1  0  390"
      ]
     },
     "execution_count": 145,
     "metadata": {},
     "output_type": "execute_result"
    }
   ],
   "source": [
    "from sklearn.metrics import confusion_matrix\n",
    "pd.DataFrame(confusion_matrix(Y_test, Y_pred))"
   ]
  },
  {
   "cell_type": "code",
   "execution_count": 146,
   "metadata": {},
   "outputs": [
    {
     "data": {
      "text/html": [
       "<div>\n",
       "<style scoped>\n",
       "    .dataframe tbody tr th:only-of-type {\n",
       "        vertical-align: middle;\n",
       "    }\n",
       "\n",
       "    .dataframe tbody tr th {\n",
       "        vertical-align: top;\n",
       "    }\n",
       "\n",
       "    .dataframe thead th {\n",
       "        text-align: right;\n",
       "    }\n",
       "</style>\n",
       "<table border=\"1\" class=\"dataframe\">\n",
       "  <thead>\n",
       "    <tr style=\"text-align: right;\">\n",
       "      <th></th>\n",
       "      <th>0</th>\n",
       "      <th>1</th>\n",
       "    </tr>\n",
       "  </thead>\n",
       "  <tbody>\n",
       "    <tr>\n",
       "      <th>0</th>\n",
       "      <td>0</td>\n",
       "      <td>1341</td>\n",
       "    </tr>\n",
       "    <tr>\n",
       "      <th>1</th>\n",
       "      <td>0</td>\n",
       "      <td>3592</td>\n",
       "    </tr>\n",
       "  </tbody>\n",
       "</table>\n",
       "</div>"
      ],
      "text/plain": [
       "   0     1\n",
       "0  0  1341\n",
       "1  0  3592"
      ]
     },
     "execution_count": 146,
     "metadata": {},
     "output_type": "execute_result"
    }
   ],
   "source": [
    "pd.DataFrame(confusion_matrix(Y_train, Y_predTrain))"
   ]
  },
  {
   "cell_type": "markdown",
   "metadata": {},
   "source": [
    "# Training a KNN model"
   ]
  },
  {
   "cell_type": "code",
   "execution_count": 147,
   "metadata": {},
   "outputs": [
    {
     "data": {
      "text/plain": [
       "KNeighborsClassifier(algorithm='auto', leaf_size=30, metric='minkowski',\n",
       "                     metric_params=None, n_jobs=None, n_neighbors=5, p=2,\n",
       "                     weights='uniform')"
      ]
     },
     "execution_count": 147,
     "metadata": {},
     "output_type": "execute_result"
    }
   ],
   "source": [
    "from sklearn.neighbors import KNeighborsClassifier\n",
    "classifier = KNeighborsClassifier(n_neighbors = 5, metric = 'minkowski', p = 2)\n",
    "classifier.fit(X_train, Y_train)"
   ]
  },
  {
   "cell_type": "markdown",
   "metadata": {},
   "source": [
    "## Making prediction on test set"
   ]
  },
  {
   "cell_type": "code",
   "execution_count": 148,
   "metadata": {},
   "outputs": [],
   "source": [
    "Y_pred = classifier.predict(X_test)\n",
    "Y_predTrain = classifier.predict(X_train)"
   ]
  },
  {
   "cell_type": "markdown",
   "metadata": {},
   "source": [
    "## Evaluating Results"
   ]
  },
  {
   "cell_type": "code",
   "execution_count": 149,
   "metadata": {},
   "outputs": [
    {
     "data": {
      "text/plain": [
       "0.9172917088992499"
      ]
     },
     "execution_count": 149,
     "metadata": {},
     "output_type": "execute_result"
    }
   ],
   "source": [
    "from sklearn.metrics import accuracy_score\n",
    "accuracy_score(Y_train, Y_predTrain)  #Training Accuaracy"
   ]
  },
  {
   "cell_type": "code",
   "execution_count": 150,
   "metadata": {},
   "outputs": [
    {
     "data": {
      "text/plain": [
       "0.5801282051282052"
      ]
     },
     "execution_count": 150,
     "metadata": {},
     "output_type": "execute_result"
    }
   ],
   "source": [
    "accuracy_score(Y_test, Y_pred)  #Testing Accuracy"
   ]
  },
  {
   "cell_type": "code",
   "execution_count": 151,
   "metadata": {},
   "outputs": [
    {
     "data": {
      "text/html": [
       "<div>\n",
       "<style scoped>\n",
       "    .dataframe tbody tr th:only-of-type {\n",
       "        vertical-align: middle;\n",
       "    }\n",
       "\n",
       "    .dataframe tbody tr th {\n",
       "        vertical-align: top;\n",
       "    }\n",
       "\n",
       "    .dataframe thead th {\n",
       "        text-align: right;\n",
       "    }\n",
       "</style>\n",
       "<table border=\"1\" class=\"dataframe\">\n",
       "  <thead>\n",
       "    <tr style=\"text-align: right;\">\n",
       "      <th></th>\n",
       "      <th>0</th>\n",
       "      <th>1</th>\n",
       "    </tr>\n",
       "  </thead>\n",
       "  <tbody>\n",
       "    <tr>\n",
       "      <th>0</th>\n",
       "      <td>35</td>\n",
       "      <td>199</td>\n",
       "    </tr>\n",
       "    <tr>\n",
       "      <th>1</th>\n",
       "      <td>63</td>\n",
       "      <td>327</td>\n",
       "    </tr>\n",
       "  </tbody>\n",
       "</table>\n",
       "</div>"
      ],
      "text/plain": [
       "    0    1\n",
       "0  35  199\n",
       "1  63  327"
      ]
     },
     "execution_count": 151,
     "metadata": {},
     "output_type": "execute_result"
    }
   ],
   "source": [
    "from sklearn.metrics import confusion_matrix\n",
    "pd.DataFrame(confusion_matrix(Y_test, Y_pred))"
   ]
  },
  {
   "cell_type": "code",
   "execution_count": 152,
   "metadata": {},
   "outputs": [
    {
     "data": {
      "text/html": [
       "<div>\n",
       "<style scoped>\n",
       "    .dataframe tbody tr th:only-of-type {\n",
       "        vertical-align: middle;\n",
       "    }\n",
       "\n",
       "    .dataframe tbody tr th {\n",
       "        vertical-align: top;\n",
       "    }\n",
       "\n",
       "    .dataframe thead th {\n",
       "        text-align: right;\n",
       "    }\n",
       "</style>\n",
       "<table border=\"1\" class=\"dataframe\">\n",
       "  <thead>\n",
       "    <tr style=\"text-align: right;\">\n",
       "      <th></th>\n",
       "      <th>0</th>\n",
       "      <th>1</th>\n",
       "    </tr>\n",
       "  </thead>\n",
       "  <tbody>\n",
       "    <tr>\n",
       "      <th>0</th>\n",
       "      <td>1006</td>\n",
       "      <td>335</td>\n",
       "    </tr>\n",
       "    <tr>\n",
       "      <th>1</th>\n",
       "      <td>73</td>\n",
       "      <td>3519</td>\n",
       "    </tr>\n",
       "  </tbody>\n",
       "</table>\n",
       "</div>"
      ],
      "text/plain": [
       "      0     1\n",
       "0  1006   335\n",
       "1    73  3519"
      ]
     },
     "execution_count": 152,
     "metadata": {},
     "output_type": "execute_result"
    }
   ],
   "source": [
    "pd.DataFrame(confusion_matrix(Y_train, Y_predTrain))"
   ]
  },
  {
   "cell_type": "markdown",
   "metadata": {},
   "source": [
    "# Training a Random Forest Model"
   ]
  },
  {
   "cell_type": "code",
   "execution_count": 28,
   "metadata": {},
   "outputs": [
    {
     "name": "stderr",
     "output_type": "stream",
     "text": [
      "[Parallel(n_jobs=1)]: Using backend SequentialBackend with 1 concurrent workers.\n",
      "[Parallel(n_jobs=1)]: Done   7 out of   7 | elapsed:    0.5s finished\n"
     ]
    },
    {
     "data": {
      "text/plain": [
       "RandomForestClassifier(bootstrap=True, ccp_alpha=0.0, class_weight=None,\n",
       "                       criterion='entropy', max_depth=None, max_features='auto',\n",
       "                       max_leaf_nodes=None, max_samples=None,\n",
       "                       min_impurity_decrease=0.0, min_impurity_split=None,\n",
       "                       min_samples_leaf=1, min_samples_split=2,\n",
       "                       min_weight_fraction_leaf=0.0, n_estimators=7,\n",
       "                       n_jobs=None, oob_score=False, random_state=None,\n",
       "                       verbose=1, warm_start=False)"
      ]
     },
     "execution_count": 28,
     "metadata": {},
     "output_type": "execute_result"
    }
   ],
   "source": [
    "from sklearn.ensemble import RandomForestClassifier\n",
    "classifier = RandomForestClassifier(n_estimators = 7, criterion = 'entropy',verbose=1)\n",
    "classifier.fit(X_train,Y_train)"
   ]
  },
  {
   "cell_type": "markdown",
   "metadata": {},
   "source": [
    "## Making prediction on test set"
   ]
  },
  {
   "cell_type": "code",
   "execution_count": 29,
   "metadata": {},
   "outputs": [
    {
     "name": "stderr",
     "output_type": "stream",
     "text": [
      "[Parallel(n_jobs=1)]: Using backend SequentialBackend with 1 concurrent workers.\n",
      "[Parallel(n_jobs=1)]: Done   7 out of   7 | elapsed:    0.0s finished\n",
      "[Parallel(n_jobs=1)]: Using backend SequentialBackend with 1 concurrent workers.\n",
      "[Parallel(n_jobs=1)]: Done   7 out of   7 | elapsed:    0.0s finished\n"
     ]
    }
   ],
   "source": [
    "Y_pred = classifier.predict(X_test)\n",
    "Y_predTrain = classifier.predict(X_train)"
   ]
  },
  {
   "cell_type": "markdown",
   "metadata": {},
   "source": [
    "## Evaluating Results"
   ]
  },
  {
   "cell_type": "code",
   "execution_count": 30,
   "metadata": {},
   "outputs": [
    {
     "data": {
      "text/plain": [
       "0.9777011960267585"
      ]
     },
     "execution_count": 30,
     "metadata": {},
     "output_type": "execute_result"
    }
   ],
   "source": [
    "accuracy_score(Y_train, Y_predTrain)"
   ]
  },
  {
   "cell_type": "code",
   "execution_count": 31,
   "metadata": {},
   "outputs": [
    {
     "data": {
      "text/plain": [
       "0.6137820512820513"
      ]
     },
     "execution_count": 31,
     "metadata": {},
     "output_type": "execute_result"
    }
   ],
   "source": [
    "accuracy_score(Y_test, Y_pred)"
   ]
  },
  {
   "cell_type": "code",
   "execution_count": 32,
   "metadata": {
    "scrolled": true
   },
   "outputs": [
    {
     "data": {
      "text/html": [
       "<div>\n",
       "<style scoped>\n",
       "    .dataframe tbody tr th:only-of-type {\n",
       "        vertical-align: middle;\n",
       "    }\n",
       "\n",
       "    .dataframe tbody tr th {\n",
       "        vertical-align: top;\n",
       "    }\n",
       "\n",
       "    .dataframe thead th {\n",
       "        text-align: right;\n",
       "    }\n",
       "</style>\n",
       "<table border=\"1\" class=\"dataframe\">\n",
       "  <thead>\n",
       "    <tr style=\"text-align: right;\">\n",
       "      <th></th>\n",
       "      <th>0</th>\n",
       "      <th>1</th>\n",
       "    </tr>\n",
       "  </thead>\n",
       "  <tbody>\n",
       "    <tr>\n",
       "      <th>0</th>\n",
       "      <td>30</td>\n",
       "      <td>204</td>\n",
       "    </tr>\n",
       "    <tr>\n",
       "      <th>1</th>\n",
       "      <td>37</td>\n",
       "      <td>353</td>\n",
       "    </tr>\n",
       "  </tbody>\n",
       "</table>\n",
       "</div>"
      ],
      "text/plain": [
       "    0    1\n",
       "0  30  204\n",
       "1  37  353"
      ]
     },
     "execution_count": 32,
     "metadata": {},
     "output_type": "execute_result"
    }
   ],
   "source": [
    "from sklearn.metrics import confusion_matrix\n",
    "pd.DataFrame(confusion_matrix(Y_test, Y_pred))"
   ]
  },
  {
   "cell_type": "code",
   "execution_count": 33,
   "metadata": {},
   "outputs": [
    {
     "data": {
      "text/html": [
       "<div>\n",
       "<style scoped>\n",
       "    .dataframe tbody tr th:only-of-type {\n",
       "        vertical-align: middle;\n",
       "    }\n",
       "\n",
       "    .dataframe tbody tr th {\n",
       "        vertical-align: top;\n",
       "    }\n",
       "\n",
       "    .dataframe thead th {\n",
       "        text-align: right;\n",
       "    }\n",
       "</style>\n",
       "<table border=\"1\" class=\"dataframe\">\n",
       "  <thead>\n",
       "    <tr style=\"text-align: right;\">\n",
       "      <th></th>\n",
       "      <th>0</th>\n",
       "      <th>1</th>\n",
       "    </tr>\n",
       "  </thead>\n",
       "  <tbody>\n",
       "    <tr>\n",
       "      <th>0</th>\n",
       "      <td>1248</td>\n",
       "      <td>93</td>\n",
       "    </tr>\n",
       "    <tr>\n",
       "      <th>1</th>\n",
       "      <td>17</td>\n",
       "      <td>3575</td>\n",
       "    </tr>\n",
       "  </tbody>\n",
       "</table>\n",
       "</div>"
      ],
      "text/plain": [
       "      0     1\n",
       "0  1248    93\n",
       "1    17  3575"
      ]
     },
     "execution_count": 33,
     "metadata": {},
     "output_type": "execute_result"
    }
   ],
   "source": [
    "pd.DataFrame(confusion_matrix(Y_train, Y_predTrain))"
   ]
  },
  {
   "cell_type": "code",
   "execution_count": null,
   "metadata": {},
   "outputs": [],
   "source": []
  }
 ],
 "metadata": {
  "kernelspec": {
   "display_name": "Python 3",
   "language": "python",
   "name": "python3"
  },
  "language_info": {
   "codemirror_mode": {
    "name": "ipython",
    "version": 3
   },
   "file_extension": ".py",
   "mimetype": "text/x-python",
   "name": "python",
   "nbconvert_exporter": "python",
   "pygments_lexer": "ipython3",
   "version": "3.6.10"
  }
 },
 "nbformat": 4,
 "nbformat_minor": 2
}

{
 "cells": [
  {
   "cell_type": "markdown",
   "metadata": {},
   "source": [
    "# Automated Chest Radiograph Analyser (ACRA) "
   ]
  },
  {
   "cell_type": "markdown",
   "metadata": {},
   "source": [
    "## Part01 - Building the CNN"
   ]
  },
  {
   "cell_type": "code",
   "execution_count": 1,
   "metadata": {},
   "outputs": [
    {
     "name": "stderr",
     "output_type": "stream",
     "text": [
      "Using TensorFlow backend.\n",
      "D:\\Users\\shiva\\Anaconda3\\envs\\tensorflow\\lib\\site-packages\\tensorflow\\python\\framework\\dtypes.py:516: FutureWarning: Passing (type, 1) or '1type' as a synonym of type is deprecated; in a future version of numpy, it will be understood as (type, (1,)) / '(1,)type'.\n",
      "  _np_qint8 = np.dtype([(\"qint8\", np.int8, 1)])\n",
      "D:\\Users\\shiva\\Anaconda3\\envs\\tensorflow\\lib\\site-packages\\tensorflow\\python\\framework\\dtypes.py:517: FutureWarning: Passing (type, 1) or '1type' as a synonym of type is deprecated; in a future version of numpy, it will be understood as (type, (1,)) / '(1,)type'.\n",
      "  _np_quint8 = np.dtype([(\"quint8\", np.uint8, 1)])\n",
      "D:\\Users\\shiva\\Anaconda3\\envs\\tensorflow\\lib\\site-packages\\tensorflow\\python\\framework\\dtypes.py:518: FutureWarning: Passing (type, 1) or '1type' as a synonym of type is deprecated; in a future version of numpy, it will be understood as (type, (1,)) / '(1,)type'.\n",
      "  _np_qint16 = np.dtype([(\"qint16\", np.int16, 1)])\n",
      "D:\\Users\\shiva\\Anaconda3\\envs\\tensorflow\\lib\\site-packages\\tensorflow\\python\\framework\\dtypes.py:519: FutureWarning: Passing (type, 1) or '1type' as a synonym of type is deprecated; in a future version of numpy, it will be understood as (type, (1,)) / '(1,)type'.\n",
      "  _np_quint16 = np.dtype([(\"quint16\", np.uint16, 1)])\n",
      "D:\\Users\\shiva\\Anaconda3\\envs\\tensorflow\\lib\\site-packages\\tensorflow\\python\\framework\\dtypes.py:520: FutureWarning: Passing (type, 1) or '1type' as a synonym of type is deprecated; in a future version of numpy, it will be understood as (type, (1,)) / '(1,)type'.\n",
      "  _np_qint32 = np.dtype([(\"qint32\", np.int32, 1)])\n",
      "D:\\Users\\shiva\\Anaconda3\\envs\\tensorflow\\lib\\site-packages\\tensorflow\\python\\framework\\dtypes.py:525: FutureWarning: Passing (type, 1) or '1type' as a synonym of type is deprecated; in a future version of numpy, it will be understood as (type, (1,)) / '(1,)type'.\n",
      "  np_resource = np.dtype([(\"resource\", np.ubyte, 1)])\n",
      "D:\\Users\\shiva\\Anaconda3\\envs\\tensorflow\\lib\\site-packages\\tensorboard\\compat\\tensorflow_stub\\dtypes.py:541: FutureWarning: Passing (type, 1) or '1type' as a synonym of type is deprecated; in a future version of numpy, it will be understood as (type, (1,)) / '(1,)type'.\n",
      "  _np_qint8 = np.dtype([(\"qint8\", np.int8, 1)])\n",
      "D:\\Users\\shiva\\Anaconda3\\envs\\tensorflow\\lib\\site-packages\\tensorboard\\compat\\tensorflow_stub\\dtypes.py:542: FutureWarning: Passing (type, 1) or '1type' as a synonym of type is deprecated; in a future version of numpy, it will be understood as (type, (1,)) / '(1,)type'.\n",
      "  _np_quint8 = np.dtype([(\"quint8\", np.uint8, 1)])\n",
      "D:\\Users\\shiva\\Anaconda3\\envs\\tensorflow\\lib\\site-packages\\tensorboard\\compat\\tensorflow_stub\\dtypes.py:543: FutureWarning: Passing (type, 1) or '1type' as a synonym of type is deprecated; in a future version of numpy, it will be understood as (type, (1,)) / '(1,)type'.\n",
      "  _np_qint16 = np.dtype([(\"qint16\", np.int16, 1)])\n",
      "D:\\Users\\shiva\\Anaconda3\\envs\\tensorflow\\lib\\site-packages\\tensorboard\\compat\\tensorflow_stub\\dtypes.py:544: FutureWarning: Passing (type, 1) or '1type' as a synonym of type is deprecated; in a future version of numpy, it will be understood as (type, (1,)) / '(1,)type'.\n",
      "  _np_quint16 = np.dtype([(\"quint16\", np.uint16, 1)])\n",
      "D:\\Users\\shiva\\Anaconda3\\envs\\tensorflow\\lib\\site-packages\\tensorboard\\compat\\tensorflow_stub\\dtypes.py:545: FutureWarning: Passing (type, 1) or '1type' as a synonym of type is deprecated; in a future version of numpy, it will be understood as (type, (1,)) / '(1,)type'.\n",
      "  _np_qint32 = np.dtype([(\"qint32\", np.int32, 1)])\n",
      "D:\\Users\\shiva\\Anaconda3\\envs\\tensorflow\\lib\\site-packages\\tensorboard\\compat\\tensorflow_stub\\dtypes.py:550: FutureWarning: Passing (type, 1) or '1type' as a synonym of type is deprecated; in a future version of numpy, it will be understood as (type, (1,)) / '(1,)type'.\n",
      "  np_resource = np.dtype([(\"resource\", np.ubyte, 1)])\n"
     ]
    }
   ],
   "source": [
    "# Importing Keras libraries and packages\n",
    "from keras.models import Sequential\n",
    "from keras.layers import Convolution2D\n",
    "from keras.layers import MaxPooling2D\n",
    "from keras.layers import Flatten\n",
    "from keras.layers import Dense\n",
    "from keras.callbacks import ModelCheckpoint"
   ]
  },
  {
   "cell_type": "markdown",
   "metadata": {},
   "source": [
    "### Initialising the CNN"
   ]
  },
  {
   "cell_type": "code",
   "execution_count": 2,
   "metadata": {},
   "outputs": [],
   "source": [
    "classifier = Sequential()"
   ]
  },
  {
   "cell_type": "markdown",
   "metadata": {},
   "source": [
    "### Step01 - Convolution"
   ]
  },
  {
   "cell_type": "code",
   "execution_count": 3,
   "metadata": {},
   "outputs": [],
   "source": [
    "classifier.add(Convolution2D(32, (3, 3), input_shape=(64,64,3), activation='relu'))"
   ]
  },
  {
   "cell_type": "markdown",
   "metadata": {},
   "source": [
    "### Step02 - Pooling"
   ]
  },
  {
   "cell_type": "code",
   "execution_count": 4,
   "metadata": {},
   "outputs": [
    {
     "name": "stdout",
     "output_type": "stream",
     "text": [
      "WARNING:tensorflow:From D:\\Users\\shiva\\Anaconda3\\envs\\tensorflow\\lib\\site-packages\\keras\\backend\\tensorflow_backend.py:4070: The name tf.nn.max_pool is deprecated. Please use tf.nn.max_pool2d instead.\n",
      "\n"
     ]
    }
   ],
   "source": [
    "classifier.add(MaxPooling2D(pool_size=(2,2)))"
   ]
  },
  {
   "cell_type": "markdown",
   "metadata": {},
   "source": [
    "### Adding more Convolutional Layer"
   ]
  },
  {
   "cell_type": "code",
   "execution_count": 5,
   "metadata": {},
   "outputs": [],
   "source": [
    "classifier.add(Convolution2D(32, (3, 3), activation='relu'))\n",
    "classifier.add(MaxPooling2D(pool_size=(2,2)))\n",
    "classifier.add(Convolution2D(32, (3, 3), activation='relu'))\n",
    "classifier.add(MaxPooling2D(pool_size=(2,2)))"
   ]
  },
  {
   "cell_type": "markdown",
   "metadata": {},
   "source": [
    "### Step03 - Flattening"
   ]
  },
  {
   "cell_type": "code",
   "execution_count": 6,
   "metadata": {},
   "outputs": [],
   "source": [
    "classifier.add(Flatten())"
   ]
  },
  {
   "cell_type": "markdown",
   "metadata": {},
   "source": [
    "### Step04 - Full Connection"
   ]
  },
  {
   "cell_type": "code",
   "execution_count": 7,
   "metadata": {},
   "outputs": [
    {
     "name": "stderr",
     "output_type": "stream",
     "text": [
      "D:\\Users\\shiva\\Anaconda3\\envs\\tensorflow\\lib\\site-packages\\ipykernel_launcher.py:1: UserWarning: Update your `Dense` call to the Keras 2 API: `Dense(activation=\"relu\", units=128)`\n",
      "  \"\"\"Entry point for launching an IPython kernel.\n",
      "D:\\Users\\shiva\\Anaconda3\\envs\\tensorflow\\lib\\site-packages\\ipykernel_launcher.py:2: UserWarning: Update your `Dense` call to the Keras 2 API: `Dense(activation=\"sigmoid\", units=1)`\n",
      "  \n"
     ]
    }
   ],
   "source": [
    "classifier.add(Dense(output_dim=128, activation='relu'))\n",
    "classifier.add(Dense(output_dim=1, activation='sigmoid'))"
   ]
  },
  {
   "cell_type": "markdown",
   "metadata": {},
   "source": [
    "### Compiling the CNN"
   ]
  },
  {
   "cell_type": "code",
   "execution_count": 8,
   "metadata": {
    "scrolled": true
   },
   "outputs": [
    {
     "name": "stdout",
     "output_type": "stream",
     "text": [
      "WARNING:tensorflow:From D:\\Users\\shiva\\Anaconda3\\envs\\tensorflow\\lib\\site-packages\\tensorflow\\python\\ops\\nn_impl.py:180: add_dispatch_support.<locals>.wrapper (from tensorflow.python.ops.array_ops) is deprecated and will be removed in a future version.\n",
      "Instructions for updating:\n",
      "Use tf.where in 2.0, which has the same broadcast rule as np.where\n"
     ]
    }
   ],
   "source": [
    "classifier.compile(optimizer='adam', loss='binary_crossentropy', metrics=['accuracy'])"
   ]
  },
  {
   "cell_type": "markdown",
   "metadata": {},
   "source": [
    "### Classifier Summary"
   ]
  },
  {
   "cell_type": "code",
   "execution_count": 9,
   "metadata": {},
   "outputs": [
    {
     "name": "stdout",
     "output_type": "stream",
     "text": [
      "Model: \"sequential_1\"\n",
      "_________________________________________________________________\n",
      "Layer (type)                 Output Shape              Param #   \n",
      "=================================================================\n",
      "conv2d_1 (Conv2D)            (None, 62, 62, 32)        896       \n",
      "_________________________________________________________________\n",
      "max_pooling2d_1 (MaxPooling2 (None, 31, 31, 32)        0         \n",
      "_________________________________________________________________\n",
      "conv2d_2 (Conv2D)            (None, 29, 29, 32)        9248      \n",
      "_________________________________________________________________\n",
      "max_pooling2d_2 (MaxPooling2 (None, 14, 14, 32)        0         \n",
      "_________________________________________________________________\n",
      "conv2d_3 (Conv2D)            (None, 12, 12, 32)        9248      \n",
      "_________________________________________________________________\n",
      "max_pooling2d_3 (MaxPooling2 (None, 6, 6, 32)          0         \n",
      "_________________________________________________________________\n",
      "flatten_1 (Flatten)          (None, 1152)              0         \n",
      "_________________________________________________________________\n",
      "dense_1 (Dense)              (None, 128)               147584    \n",
      "_________________________________________________________________\n",
      "dense_2 (Dense)              (None, 1)                 129       \n",
      "=================================================================\n",
      "Total params: 167,105\n",
      "Trainable params: 167,105\n",
      "Non-trainable params: 0\n",
      "_________________________________________________________________\n"
     ]
    }
   ],
   "source": [
    "classifier.summary()"
   ]
  },
  {
   "cell_type": "markdown",
   "metadata": {},
   "source": [
    "## Part02 - Fitting the CNN to the images"
   ]
  },
  {
   "cell_type": "code",
   "execution_count": 10,
   "metadata": {},
   "outputs": [],
   "source": [
    "from keras.preprocessing.image import ImageDataGenerator\n",
    "\n",
    "#Below pixels are rescaled to have value b/w 0 and 1 and different modifications are performed\n",
    "train_datagen = ImageDataGenerator(\n",
    "        rescale=1./255,\n",
    "        shear_range=0.2,\n",
    "        zoom_range=0.2,\n",
    "        horizontal_flip=True)\n",
    "\n",
    "#Here only rescaling is done\n",
    "test_datagen = ImageDataGenerator(rescale=1./255)"
   ]
  },
  {
   "cell_type": "markdown",
   "metadata": {},
   "source": [
    "### Loading Data"
   ]
  },
  {
   "cell_type": "code",
   "execution_count": 11,
   "metadata": {},
   "outputs": [
    {
     "name": "stdout",
     "output_type": "stream",
     "text": [
      "Found 4933 images belonging to 2 classes.\n",
      "Found 624 images belonging to 2 classes.\n"
     ]
    }
   ],
   "source": [
    "train_generator = train_datagen.flow_from_directory('train',\n",
    "                                                    target_size=(64, 64),\n",
    "                                                    batch_size=32,\n",
    "                                                    class_mode='binary')\n",
    "\n",
    "validation_generator = test_datagen.flow_from_directory('test',\n",
    "                                                        target_size=(64, 64),\n",
    "                                                        batch_size=32,\n",
    "                                                        class_mode='binary')"
   ]
  },
  {
   "cell_type": "markdown",
   "metadata": {},
   "source": [
    "### Configuring Checkpointer "
   ]
  },
  {
   "cell_type": "code",
   "execution_count": 12,
   "metadata": {},
   "outputs": [],
   "source": [
    "checkpointer = ModelCheckpoint(filepath=\"best_weights.hdf5\", \n",
    "                               monitor = 'val_acc',\n",
    "                               verbose=1, \n",
    "                               save_best_only=True)"
   ]
  },
  {
   "cell_type": "markdown",
   "metadata": {},
   "source": [
    "### Fitting the CNN to data"
   ]
  },
  {
   "cell_type": "code",
   "execution_count": 13,
   "metadata": {},
   "outputs": [
    {
     "name": "stderr",
     "output_type": "stream",
     "text": [
      "D:\\Users\\shiva\\Anaconda3\\envs\\tensorflow\\lib\\site-packages\\ipykernel_launcher.py:5: UserWarning: The semantics of the Keras 2 argument `steps_per_epoch` is not the same as the Keras 1 argument `samples_per_epoch`. `steps_per_epoch` is the number of batches to draw from the generator at each epoch. Basically steps_per_epoch = samples_per_epoch/batch_size. Similarly `nb_val_samples`->`validation_steps` and `val_samples`->`steps` arguments have changed. Update your method calls accordingly.\n",
      "  \"\"\"\n",
      "D:\\Users\\shiva\\Anaconda3\\envs\\tensorflow\\lib\\site-packages\\ipykernel_launcher.py:5: UserWarning: Update your `fit_generator` call to the Keras 2 API: `fit_generator(<keras.pre..., validation_data=<keras.pre..., steps_per_epoch=163, epochs=25, validation_steps=624)`\n",
      "  \"\"\"\n"
     ]
    },
    {
     "name": "stdout",
     "output_type": "stream",
     "text": [
      "WARNING:tensorflow:From D:\\Users\\shiva\\Anaconda3\\envs\\tensorflow\\lib\\site-packages\\keras\\backend\\tensorflow_backend.py:422: The name tf.global_variables is deprecated. Please use tf.compat.v1.global_variables instead.\n",
      "\n",
      "Epoch 1/25\n",
      "163/163 [==============================] - 335s 2s/step - loss: 0.4392 - accuracy: 0.8009 - val_loss: 0.3064 - val_accuracy: 0.8192\n",
      "Epoch 2/25\n",
      "163/163 [==============================] - 233s 1s/step - loss: 0.2568 - accuracy: 0.8874 - val_loss: 0.1909 - val_accuracy: 0.8526\n",
      "Epoch 3/25\n",
      "163/163 [==============================] - 236s 1s/step - loss: 0.2411 - accuracy: 0.8997 - val_loss: 0.2811 - val_accuracy: 0.8509\n",
      "Epoch 4/25\n",
      "163/163 [==============================] - 1080s 7s/step - loss: 0.2267 - accuracy: 0.9068 - val_loss: 0.2209 - val_accuracy: 0.8751\n",
      "Epoch 5/25\n",
      "163/163 [==============================] - 252s 2s/step - loss: 0.1996 - accuracy: 0.9210 - val_loss: 0.0639 - val_accuracy: 0.8956\n",
      "Epoch 6/25\n",
      "163/163 [==============================] - 276s 2s/step - loss: 0.1858 - accuracy: 0.9270 - val_loss: 0.1668 - val_accuracy: 0.9005\n",
      "Epoch 7/25\n",
      "163/163 [==============================] - 256s 2s/step - loss: 0.1638 - accuracy: 0.9358 - val_loss: 0.2935 - val_accuracy: 0.8829\n",
      "Epoch 8/25\n",
      "163/163 [==============================] - 267s 2s/step - loss: 0.1556 - accuracy: 0.9406 - val_loss: 0.3777 - val_accuracy: 0.8593\n",
      "Epoch 9/25\n",
      "163/163 [==============================] - 281s 2s/step - loss: 0.1704 - accuracy: 0.9320 - val_loss: 1.1830 - val_accuracy: 0.8605\n",
      "Epoch 10/25\n",
      "163/163 [==============================] - 252s 2s/step - loss: 0.1611 - accuracy: 0.9359 - val_loss: 0.2404 - val_accuracy: 0.8814\n",
      "Epoch 11/25\n",
      "163/163 [==============================] - 247s 2s/step - loss: 0.1504 - accuracy: 0.9418 - val_loss: 0.5594 - val_accuracy: 0.9183\n",
      "Epoch 12/25\n",
      "163/163 [==============================] - 240s 1s/step - loss: 0.1450 - accuracy: 0.9478 - val_loss: 0.2806 - val_accuracy: 0.9182\n",
      "Epoch 13/25\n",
      "163/163 [==============================] - 310s 2s/step - loss: 0.1421 - accuracy: 0.9480 - val_loss: 0.5729 - val_accuracy: 0.8430\n",
      "Epoch 14/25\n",
      "163/163 [==============================] - 297s 2s/step - loss: 0.1426 - accuracy: 0.9458 - val_loss: 0.3729 - val_accuracy: 0.8956\n",
      "Epoch 15/25\n",
      "163/163 [==============================] - 253s 2s/step - loss: 0.1288 - accuracy: 0.9505 - val_loss: 0.2440 - val_accuracy: 0.9168\n",
      "Epoch 16/25\n",
      "163/163 [==============================] - 315s 2s/step - loss: 0.1292 - accuracy: 0.9525 - val_loss: 0.0333 - val_accuracy: 0.9103\n",
      "Epoch 17/25\n",
      " 83/163 [==============>...............] - ETA: 1:49 - loss: 0.1226 - accuracy: 0.9540"
     ]
    },
    {
     "name": "stderr",
     "output_type": "stream",
     "text": [
      "D:\\Users\\shiva\\Anaconda3\\envs\\tensorflow\\lib\\site-packages\\keras\\utils\\data_utils.py:616: UserWarning: The input 2 could not be retrieved. It could be because a worker has died.\n",
      "  UserWarning)\n"
     ]
    },
    {
     "name": "stdout",
     "output_type": "stream",
     "text": [
      "163/163 [==============================] - 656s 4s/step - loss: 0.1379 - accuracy: 0.9489 - val_loss: 0.3691 - val_accuracy: 0.9133\n",
      "Epoch 18/25\n",
      "163/163 [==============================] - 266s 2s/step - loss: 0.1222 - accuracy: 0.9557 - val_loss: 0.3638 - val_accuracy: 0.8993\n",
      "Epoch 19/25\n",
      "163/163 [==============================] - 231s 1s/step - loss: 0.1232 - accuracy: 0.9551 - val_loss: 0.2360 - val_accuracy: 0.9295\n",
      "Epoch 20/25\n",
      "163/163 [==============================] - 250s 2s/step - loss: 0.1173 - accuracy: 0.9555 - val_loss: 0.4489 - val_accuracy: 0.8972\n",
      "Epoch 21/25\n",
      "163/163 [==============================] - 247s 2s/step - loss: 0.1076 - accuracy: 0.9622 - val_loss: 0.4150 - val_accuracy: 0.9262\n",
      "Epoch 22/25\n",
      "163/163 [==============================] - 246s 2s/step - loss: 0.1190 - accuracy: 0.9566 - val_loss: 0.3414 - val_accuracy: 0.9058\n",
      "Epoch 23/25\n",
      "163/163 [==============================] - 234s 1s/step - loss: 0.1132 - accuracy: 0.9584 - val_loss: 0.4272 - val_accuracy: 0.9023\n",
      "Epoch 24/25\n",
      "163/163 [==============================] - 235s 1s/step - loss: 0.1113 - accuracy: 0.9555 - val_loss: 0.2459 - val_accuracy: 0.9119\n",
      "Epoch 25/25\n",
      "163/163 [==============================] - 232s 1s/step - loss: 0.1177 - accuracy: 0.9566 - val_loss: 0.0730 - val_accuracy: 0.8764\n"
     ]
    }
   ],
   "source": [
    "history = classifier.fit_generator(train_generator,\n",
    "                        samples_per_epoch=5216,\n",
    "                        nb_epoch=25,\n",
    "                        validation_data=validation_generator,\n",
    "                        nb_val_samples=624)"
   ]
  },
  {
   "cell_type": "code",
   "execution_count": 19,
   "metadata": {},
   "outputs": [
    {
     "data": {
      "text/plain": [
       "{'val_loss': [0.30641865730285645,\n",
       "  0.19093504548072815,\n",
       "  0.2810879349708557,\n",
       "  0.22092986106872559,\n",
       "  0.0638669952750206,\n",
       "  0.16677729785442352,\n",
       "  0.2934844493865967,\n",
       "  0.37766218185424805,\n",
       "  1.1829975843429565,\n",
       "  0.24041837453842163,\n",
       "  0.5594361424446106,\n",
       "  0.2806456685066223,\n",
       "  0.5728824138641357,\n",
       "  0.3728896975517273,\n",
       "  0.2439981997013092,\n",
       "  0.033279649913311005,\n",
       "  0.3691387176513672,\n",
       "  0.363822877407074,\n",
       "  0.235952690243721,\n",
       "  0.4488626718521118,\n",
       "  0.41499167680740356,\n",
       "  0.34138357639312744,\n",
       "  0.4272143244743347,\n",
       "  0.24591483175754547,\n",
       "  0.0729692354798317],\n",
       " 'val_accuracy': [0.8191762566566467,\n",
       "  0.852608859539032,\n",
       "  0.8509141206741333,\n",
       "  0.875102698802948,\n",
       "  0.8956106305122375,\n",
       "  0.9004724621772766,\n",
       "  0.882908821105957,\n",
       "  0.8593364953994751,\n",
       "  0.860517680644989,\n",
       "  0.8813733458518982,\n",
       "  0.9182929396629333,\n",
       "  0.918241560459137,\n",
       "  0.8429539799690247,\n",
       "  0.895645022392273,\n",
       "  0.9167866110801697,\n",
       "  0.9103327989578247,\n",
       "  0.9133114218711853,\n",
       "  0.8993426561355591,\n",
       "  0.929488480091095,\n",
       "  0.8972039222717285,\n",
       "  0.926150381565094,\n",
       "  0.905813455581665,\n",
       "  0.9022698998451233,\n",
       "  0.911873459815979,\n",
       "  0.8763877749443054],\n",
       " 'loss': [0.4401197844064863,\n",
       "  0.25918630458337333,\n",
       "  0.2410952090028605,\n",
       "  0.22633586870127526,\n",
       "  0.19959839495138887,\n",
       "  0.18672477265474946,\n",
       "  0.16446773139776052,\n",
       "  0.15624955678952754,\n",
       "  0.17082744749651682,\n",
       "  0.16141044165605678,\n",
       "  0.15056089419957,\n",
       "  0.1430986841466069,\n",
       "  0.14230389294452717,\n",
       "  0.14249181725898905,\n",
       "  0.12875054351574072,\n",
       "  0.13027151012075117,\n",
       "  0.13814502425662675,\n",
       "  0.12276590098015781,\n",
       "  0.12362874691631436,\n",
       "  0.11777319839035047,\n",
       "  0.10808971002238475,\n",
       "  0.11962081436622413,\n",
       "  0.1136893228110659,\n",
       "  0.11176508760209326,\n",
       "  0.11809969140623411],\n",
       " 'accuracy': [0.800925,\n",
       "  0.8874467,\n",
       "  0.8997316,\n",
       "  0.90681905,\n",
       "  0.9210123,\n",
       "  0.9269609,\n",
       "  0.93582577,\n",
       "  0.94064367,\n",
       "  0.9319715,\n",
       "  0.93587756,\n",
       "  0.94179994,\n",
       "  0.9477741,\n",
       "  0.9479669,\n",
       "  0.945847,\n",
       "  0.9505368,\n",
       "  0.9525378,\n",
       "  0.94893044,\n",
       "  0.9556755,\n",
       "  0.9550973,\n",
       "  0.9554828,\n",
       "  0.96222776,\n",
       "  0.95663905,\n",
       "  0.9583735,\n",
       "  0.9554828,\n",
       "  0.95663905]}"
      ]
     },
     "execution_count": 19,
     "metadata": {},
     "output_type": "execute_result"
    }
   ],
   "source": [
    "history.history"
   ]
  },
  {
   "cell_type": "code",
   "execution_count": 21,
   "metadata": {},
   "outputs": [
    {
     "data": {
      "image/png": "[encoded data removed]",
      "text/plain": [
       "<Figure size 432x288 with 1 Axes>"
      ]
     },
     "metadata": {
      "needs_background": "light"
     },
     "output_type": "display_data"
    },
    {
     "data": {
      "image/png": "[encoded data removed]",
      "text/plain": [
       "<Figure size 432x288 with 1 Axes>"
      ]
     },
     "metadata": {
      "needs_background": "light"
     },
     "output_type": "display_data"
    }
   ],
   "source": [
    "from matplotlib import pyplot as plt\n",
    "\n",
    "acc = history.history['accuracy']\n",
    "val_acc = history.history['val_accuracy']\n",
    "loss = history.history['loss']\n",
    "val_loss = history.history['val_loss']\n",
    "epochs = range(1, len(acc) + 1)\n",
    "plt.plot(epochs, acc, 'bo', label='Training acc')\n",
    "plt.plot(epochs, val_acc, 'b', label='Validation acc')\n",
    "plt.title('Training and validation accuracy')\n",
    "plt.legend()\n",
    "plt.figure()\n",
    "plt.plot(epochs, loss, 'bo', label='Training loss')\n",
    "plt.plot(epochs, val_loss, 'b', label='Validation loss')\n",
    "plt.title('Training and validation loss')\n",
    "plt.legend()\n",
    "plt.show()"
   ]
  },
  {
   "cell_type": "code",
   "execution_count": null,
   "metadata": {},
   "outputs": [],
   "source": []
  }
 ],
 "metadata": {
  "kernelspec": {
   "display_name": "Python 3",
   "language": "python",
   "name": "python3"
  },
  "language_info": {
   "codemirror_mode": {
    "name": "ipython",
    "version": 3
   },
   "file_extension": ".py",
   "mimetype": "text/x-python",
   "name": "python",
   "nbconvert_exporter": "python",
   "pygments_lexer": "ipython3",
   "version": "3.6.10"
  }
 },
 "nbformat": 4,
 "nbformat_minor": 2
}
